{
  "nbformat": 4,
  "nbformat_minor": 0,
  "metadata": {
    "colab": {
      "provenance": [],
      "authorship_tag": "ABX9TyNFgYYB1f2hZds25FRRzAJq",
      "include_colab_link": true
    },
    "kernelspec": {
      "name": "python3",
      "display_name": "Python 3"
    },
    "language_info": {
      "name": "python"
    }
  },
  "cells": [
    {
      "cell_type": "markdown",
      "metadata": {
        "id": "view-in-github",
        "colab_type": "text"
      },
      "source": [
        "<a href=\"https://colab.research.google.com/github/Abdullah1Jubair/CSE111/blob/main/cse111Lab7.ipynb\" target=\"_parent\"><img src=\"https://colab.research.google.com/assets/colab-badge.svg\" alt=\"Open In Colab\"/></a>"
      ]
    },
    {
      "cell_type": "markdown",
      "source": [
        "### task 1\n",
        "Write a class called Circle with the required constructor and methods to get the following output.\n",
        "Subtasks:\n",
        "\n",
        "1. Create a class called Circle.\n",
        "\n",
        "2. Create the required constructor. Use Encapsulation to protect the variables.\n",
        "[Hint: Assign the variables in private]\n",
        "\n",
        "3. Create getRadius() and setRadius() method to access variables.  \n",
        "\n",
        "4. Create a method called area to calculate the area of circles."
      ],
      "metadata": {
        "id": "7rTsl0hC-ONS"
      }
    },
    {
      "cell_type": "code",
      "source": [
        "#Task 1\n",
        "class Circle:\n",
        "    def __init__(self,radius):\n",
        "        self.__radius = radius\n",
        "\n",
        "    def getRadius(self):\n",
        "        return self.__radius\n",
        "    def setRadius(self,n1):\n",
        "        self.__radius = n1\n",
        "    def area(self):\n",
        "        area =(22/7)*(self.__radius**2)\n",
        "        return area\n",
        "\n",
        "c1 = Circle(4)\n",
        "print(\"First circle radius:\" , c1.getRadius())\n",
        "print(\"First circle area:\" , c1.area())\n",
        "\n",
        "c2 = Circle(5)\n",
        "print(\"Second circle radius:\" , c2.getRadius())\n",
        "print(\"Second circle area:\" , c2.area())"
      ],
      "metadata": {
        "colab": {
          "base_uri": "https://localhost:8080/"
        },
        "id": "RnB_gGv02dt_",
        "outputId": "0212398a-2812-443d-b4ba-fa72d728e871"
      },
      "execution_count": 3,
      "outputs": [
        {
          "output_type": "stream",
          "name": "stdout",
          "text": [
            "First circle radius: 4\n",
            "First circle area: 50.285714285714285\n",
            "Second circle radius: 5\n",
            "Second circle area: 78.57142857142857\n"
          ]
        }
      ]
    },
    {
      "cell_type": "markdown",
      "source": [
        "### Task 2\n",
        "Write a class called Triangle with the required constructor and methods to get the following output.\n",
        "Subtasks:\n",
        "\n",
        "1. Create a class called Triangle.\n",
        "\n",
        "2. Create the required constructor. Use Encapsulation to protect the variables.\n",
        "\n",
        "[Hint: Assign the variables in private]\n",
        "\n",
        "3. Create getBase(), getHeight(), setBase() and setHeight() methods to access variables.\n",
        "\n",
        "4. Create a method called area to calculate the area of triangles.\n"
      ],
      "metadata": {
        "id": "yKkQHCED-cta"
      }
    },
    {
      "cell_type": "code",
      "source": [
        "#Task 2\n",
        "class Triangle:\n",
        "    def __init__ (self,num1,num2):\n",
        "        self.__num1= num1\n",
        "        self.__num2= num2\n",
        "    def getBase(self):\n",
        "        return self.__num1\n",
        "\n",
        "    def getHeight(self):\n",
        "        return self.__num2\n",
        "\n",
        "    def area(self):\n",
        "        area = 0.5 * self.__num1 * self.__num2\n",
        "        return area\n",
        "\n",
        "    def setBase(self,n1):\n",
        "        self.__num1= n1\n",
        "\n",
        "    def setHeight(self,n2):\n",
        "        self.__num2 = n2\n",
        "\n",
        "t1 = Triangle(10, 5)\n",
        "print(\"First Triangle Base:\" , t1.getBase())\n",
        "print(\"First Triangle Height:\" , t1.getHeight())\n",
        "print(\"First Triangle area:\" ,t1.area())\n",
        "\n",
        "\n",
        "t2 = Triangle(5, 3)\n",
        "print(\"Second Triangle Base:\" , t2.getBase())\n",
        "print(\"Second Triangle Height:\" , t2.getHeight())\n",
        "print(\"Second Triangle area:\" ,t2.area())\n"
      ],
      "metadata": {
        "colab": {
          "base_uri": "https://localhost:8080/"
        },
        "id": "yobUzLfPKKsW",
        "outputId": "f97090b8-db3c-41ff-c043-d275373ecb2e"
      },
      "execution_count": null,
      "outputs": [
        {
          "output_type": "stream",
          "name": "stdout",
          "text": [
            "First Triangle Base: 10\n",
            "First Triangle Height: 5\n",
            "First Triangle area: 25.0\n",
            "Second Triangle Base: 5\n",
            "Second Triangle Height: 3\n",
            "Second Triangle area: 7.5\n"
          ]
        }
      ]
    },
    {
      "cell_type": "markdown",
      "source": [
        "### Task 3\n",
        "Design the program to get the output as shown.\n",
        "\n",
        "Subtasks:\n",
        "\n",
        "1.You will need to create 2 classes: Team and Player\n",
        "\n",
        "2.Make all the variables in the Team class private.\n",
        "\n",
        "3.Make all the variables in the Player class public.\n",
        "\n",
        "4.Write the required codes in the Team and Player classes\n",
        "\n",
        "Hints:\n",
        "\n",
        "*   Create a list in team class to store the\n",
        "*   player’s name in that list\n",
        "Use constructor overloading technique for Team class\n",
        "\n",
        "\n",
        "\n",
        "\n",
        "\n"
      ],
      "metadata": {
        "id": "2kHgrP2t-mUU"
      }
    },
    {
      "cell_type": "code",
      "source": [
        "#Task 3\n",
        "class Team:\n",
        "    def __init__(self,name = None):\n",
        "        self.__country  = name\n",
        "        self.__list1 = []\n",
        "\n",
        "    def setName(self,a):\n",
        "         self.__country  = a\n",
        "\n",
        "    def addPlayer(self,b):\n",
        "        self.__list1.append(b.pname)\n",
        "\n",
        "    def printDetail(self):\n",
        "        print(\"====================\")\n",
        "        print(f\"Team: {self.__country}\")\n",
        "        print(f\"List of Players:\\n{self.__list1}\")\n",
        "        print(\"====================\")\n",
        "\n",
        "class Player:\n",
        "    def __init__(self,player = None):\n",
        "        self.pname = player\n",
        "\n",
        "\n",
        "b = Team()\n",
        "b.setName('Bangladesh')\n",
        "mashrafi = Player(\"Mashrafi\")\n",
        "b.addPlayer(mashrafi)\n",
        "tamim = Player(\"Tamim\")\n",
        "b.addPlayer(tamim)\n",
        "b.printDetail()\n",
        "a = Team(\"Australia\")\n",
        "ponting = Player(\"Ponting\")\n",
        "a.addPlayer(ponting)\n",
        "lee = Player(\"Lee\")\n",
        "a.addPlayer(lee)\n",
        "a.printDetail()\n"
      ],
      "metadata": {
        "colab": {
          "base_uri": "https://localhost:8080/"
        },
        "id": "59vn6FGsNUYM",
        "outputId": "45b10c06-c1c3-48d3-f50a-69f6317110c9"
      },
      "execution_count": null,
      "outputs": [
        {
          "output_type": "stream",
          "name": "stdout",
          "text": [
            "====================\n",
            "Team: Bangladesh\n",
            "List of Players:\n",
            "['Mashrafi', 'Tamim']\n",
            "====================\n",
            "====================\n",
            "Team: Australia\n",
            "List of Players:\n",
            "['Ponting', 'Lee']\n",
            "====================\n"
          ]
        }
      ]
    },
    {
      "cell_type": "markdown",
      "source": [
        "### Task 4\n",
        "Spaceship: This class represents a spaceship. Each spaceship has a name and a capacity (the maximum weight it can carry).\n",
        "\n",
        "Cargo: This class represents a piece of cargo. Each cargo item has a name and a weight. Both attributes should be private which means they cannot be accessed directly from outside of the class.\n",
        "\n",
        "A Spaceship contains (HAS) Cargo. That means each spaceship can carry multiple cargo items, but the total weight of the cargo cannot exceed the spaceship's capacity.\n",
        "\n",
        "Your task is to design the Spaceship and Cargo class with necessary properties so that the given output is produced for the provided driver code."
      ],
      "metadata": {
        "id": "GSdyCbcZ_ED2"
      }
    },
    {
      "cell_type": "code",
      "source": [
        "#Task 4\n",
        "class Spaceship:\n",
        "    def __init__(self,name,capacity):\n",
        "        self.name = name\n",
        "        self.capacity = capacity\n",
        "        self.currentweight = 0\n",
        "        self.cargos = []\n",
        "    def load_cargo(self,cargo):\n",
        "        load = self.currentweight + cargo.getWeight()\n",
        "\n",
        "        if load > self.capacity:\n",
        "            print(f\"Warning: Unable to load {cargo.getName()}inside {self.name}. Exceeds capacity by {load -self.capacity}.\")\n",
        "        else:\n",
        "            self.cargos.append(cargo.getName())\n",
        "            self.currentweight += cargo.getWeight()\n",
        "\n",
        "    def display_details(self):\n",
        "        print(f\"Spaceship Name: {self.name}\")\n",
        "        print(f\"Capacity: {self.capacity}\")\n",
        "        print(f\"Current Cargo Weight: {self.currentweight}\")\n",
        "        print(f\"Cargo: {self.cargos} \")\n",
        "\n",
        "\n",
        "class Cargo:\n",
        "    def __init__(self,name,weight):\n",
        "        self.__name = name\n",
        "        self.__weight = weight\n",
        "\n",
        "    def getName(self):\n",
        "        return self.__name\n",
        "    def getWeight(self)    :\n",
        "        return self.__weight\n",
        "\n",
        "\n",
        "\n",
        "# Creating spaceships\n",
        "falcon = Spaceship(\"Falcon\", 50000)\n",
        "apollo = Spaceship(\"Apollo\", 100000)\n",
        "enterprise = Spaceship(\"Enterprise\", 220000)\n",
        "print(\"1.===================================\")\n",
        "# Creating cargo\n",
        "gold = Cargo(\"Gold\", 20000)\n",
        "platinum = Cargo(\"Platinum\", 25000)\n",
        "dilithium = Cargo(\"Dilithium\", 50000)\n",
        "trilithium = Cargo(\"Trilithium\", 70000)\n",
        "neutronium = Cargo(\"Neutronium\", 80000)\n",
        "print(\"2.===================================\")\n",
        "# Loading cargo onto spaceships\n",
        "falcon.load_cargo(gold)\n",
        "falcon.load_cargo(platinum)\n",
        "falcon.display_details()\n",
        "print(\"3.===================================\")\n",
        "apollo.load_cargo(gold)  # Apollo will not reach its total capacity\n",
        "apollo.display_details()\n",
        "print(\"4.===================================\")\n",
        "falcon.load_cargo(neutronium)  # This should exceed Falcon's capacity\n",
        "print(\"5.===================================\")\n",
        "enterprise.load_cargo(dilithium)\n",
        "enterprise.load_cargo(trilithium)\n",
        "enterprise.load_cargo(neutronium)  # This should not exceed Enterprise's capacity\n",
        "enterprise.display_details()\n",
        "\n"
      ],
      "metadata": {
        "colab": {
          "base_uri": "https://localhost:8080/"
        },
        "id": "D22VY6KDSb2K",
        "outputId": "3a5bfeae-98ce-42cb-c1ec-4654eb0c48b0"
      },
      "execution_count": null,
      "outputs": [
        {
          "output_type": "stream",
          "name": "stdout",
          "text": [
            "1.===================================\n",
            "2.===================================\n",
            "Spaceship Name: Falcon\n",
            "Capacity: 50000\n",
            "Current Cargo Weight: 45000\n",
            "Cargo: ['Gold', 'Platinum'] \n",
            "3.===================================\n",
            "Spaceship Name: Apollo\n",
            "Capacity: 100000\n",
            "Current Cargo Weight: 20000\n",
            "Cargo: ['Gold'] \n",
            "4.===================================\n",
            "Warning: Unable to load Neutroniuminside Falcon. Exceeds capacity by 75000.\n",
            "5.===================================\n",
            "Spaceship Name: Enterprise\n",
            "Capacity: 220000\n",
            "Current Cargo Weight: 200000\n",
            "Cargo: ['Dilithium', 'Trilithium', 'Neutronium'] \n"
          ]
        }
      ]
    },
    {
      "cell_type": "markdown",
      "source": [
        "### Task 5\n",
        "Design the required class/es so that the following output is generated. Read the following description:\n",
        "\n",
        "1.You may assume that to board a bus, a\n",
        "student must have the bus pass, and his/her destination must match the route of the bus.\n",
        "\n",
        "2.Additionally, the default maximum capacity of the bus is\n"
      ],
      "metadata": {
        "id": "C0pODnXx_OZR"
      }
    },
    {
      "cell_type": "code",
      "source": [
        "#task 5\n",
        "class BracuStudent:\n",
        "    def __init__(self,name,map):\n",
        "        self.name = name\n",
        "        self.destination = map\n",
        "        self.bus_pass = False\n",
        "\n",
        "    def get_pass(self):\n",
        "        self.bus_pass = True\n",
        "\n",
        "    def show_details(self):\n",
        "        print(f\"Student Name: {self.name}\")\n",
        "        print(f\"Lives in {self.destination}\")\n",
        "        print(f\"Have Bus Pass? {self.bus_pass}\")\n",
        "\n",
        "class BracuBus:\n",
        "    def __init__(self, route, capacity=2):\n",
        "        self.route = route\n",
        "        self.capacity = capacity\n",
        "        self.passengers = []\n",
        "\n",
        "    def board(self, *students):\n",
        "        if not students:\n",
        "            print(\"No passenger!\")\n",
        "            return\n",
        "\n",
        "        for i in students:\n",
        "            if not i.get_pass:\n",
        "                print(\"You don't have bus pass!\")\n",
        "                continue\n",
        "\n",
        "            if i.destination != self.route:\n",
        "                print(\"You got on wrong bus!\")\n",
        "                continue\n",
        "\n",
        "            if len(self.passengers) >= self.capacity:\n",
        "                print(\"Bus is full!\")\n",
        "                break\n",
        "\n",
        "            self.passengers.append(i.name)\n",
        "            print(f\"{i.name} boarded the bus.\")\n",
        "\n",
        "    def show_details(self):\n",
        "        print(f\"Bus Route: {self.route}\")\n",
        "        print(f\"Passengers Count: {len(self.passengers)} (Max: {self.capacity})\")\n",
        "        print(f\"Passengers On Board: {self.passengers}\")\n",
        "\n",
        "\n",
        "st1 = BracuStudent(\"Afif\", \"Mirpur\")\n",
        "print(\"1===========================\")\n",
        "st2 = BracuStudent(\"Shanto\", \"Motijheel\")\n",
        "st3 = BracuStudent(\"Taskin\", \"Mirpur\")\n",
        "st1.show_details()\n",
        "st2.show_details()\n",
        "print(\"2===========================\")\n",
        "st3.show_details()\n",
        "print(\"3===========================\")\n",
        "bus1 = BracuBus(\"Mirpur\")\n",
        "bus2 = BracuBus(\"Azimpur\", 5)\n",
        "bus1.show_details()\n",
        "bus2.show_details()\n",
        "print(\"4===========================\")\n",
        "st2.get_pass()\n",
        "st3.get_pass()\n",
        "print(\"5===========================\")\n",
        "st2.show_details()\n",
        "st3.show_details()\n",
        "print(\"6===========================\")\n",
        "bus1.board()\n",
        "print(\"7===========================\")\n",
        "bus1.board(st1, st2)\n",
        "print(\"8===========================\")\n",
        "st1.get_pass()\n",
        "st2.home = \"Mirpur\"\n",
        "st1.show_details()\n",
        "st2.show_details()\n",
        "print(\"9===========================\")\n",
        "bus1.board(st1, st2, st3)\n",
        "print(\"10===========================\")\n",
        "bus1.show_details()"
      ],
      "metadata": {
        "id": "rGrbJ9wQadro",
        "colab": {
          "base_uri": "https://localhost:8080/"
        },
        "outputId": "5db5414f-1210-432e-f525-e581ebad26e8"
      },
      "execution_count": 14,
      "outputs": [
        {
          "output_type": "stream",
          "name": "stdout",
          "text": [
            "1===========================\n",
            "Student Name: Afif\n",
            "Lives in Mirpur\n",
            "Have Bus Pass? False\n",
            "Student Name: Shanto\n",
            "Lives in Motijheel\n",
            "Have Bus Pass? False\n",
            "2===========================\n",
            "Student Name: Taskin\n",
            "Lives in Mirpur\n",
            "Have Bus Pass? False\n",
            "3===========================\n",
            "Bus Route: Mirpur\n",
            "Passengers Count: 0 (Max: 2)\n",
            "Passengers On Board: []\n",
            "Bus Route: Azimpur\n",
            "Passengers Count: 0 (Max: 5)\n",
            "Passengers On Board: []\n",
            "4===========================\n",
            "5===========================\n",
            "Student Name: Shanto\n",
            "Lives in Motijheel\n",
            "Have Bus Pass? True\n",
            "Student Name: Taskin\n",
            "Lives in Mirpur\n",
            "Have Bus Pass? True\n",
            "6===========================\n",
            "No passenger!\n",
            "7===========================\n",
            "Afif boarded the bus.\n",
            "You got on wrong bus!\n",
            "8===========================\n",
            "Student Name: Afif\n",
            "Lives in Mirpur\n",
            "Have Bus Pass? True\n",
            "Student Name: Shanto\n",
            "Lives in Motijheel\n",
            "Have Bus Pass? True\n",
            "9===========================\n",
            "Afif boarded the bus.\n",
            "You got on wrong bus!\n",
            "Bus is full!\n",
            "10===========================\n",
            "Bus Route: Mirpur\n",
            "Passengers Count: 2 (Max: 2)\n",
            "Passengers On Board: ['Afif', 'Afif']\n"
          ]
        }
      ]
    },
    {
      "cell_type": "markdown",
      "source": [
        "### Task 6\n",
        "Design the required class/es so that the following output is generated.\n",
        "\n",
        "Read the following description:\n",
        "\n",
        "-The Library class has two dictionaries: one contains borrower information(the name of borrowers and the number of books they borrowed) and the other contains book availability information (book type and their remaining number)\n",
        "\n",
        "-A reader cannot borrow more than 5 books.\n",
        "\n",
        "-If a book’s availability is 0 in the Library, then the reader cannot borrow that book.\n",
        "\n",
        "-The readerInfo method in the Reader class prints the type and the number of all books borrowed if no parameter is passed, else it prints the number of books borrowed of the specific type mentioned in the parameter. You may use the default argument for this.\n"
      ],
      "metadata": {
        "id": "r9XQSc6X_enb"
      }
    },
    {
      "cell_type": "code",
      "source": [
        "#Task 6\n",
        "class Library:\n",
        "    def __init__(self, name, bookList):\n",
        "        self.name = name\n",
        "        self.bookList = bookList\n",
        "        self.borrower = {}\n",
        "\n",
        "    def details(self):\n",
        "        print(\"Dhaka Library details\")\n",
        "        print(\"Borrower details:\")\n",
        "        print(self.borrower)\n",
        "        print(\"Books availability:\")\n",
        "        print(self.bookList)\n",
        "\n",
        "class Reader:\n",
        "    def __init__(self, name):\n",
        "        self.name = name\n",
        "        self.books = {}\n",
        "        self.count = 0\n",
        "\n",
        "    def borrow(self, library, *books):\n",
        "        for i in books:\n",
        "            if self.count < 5:\n",
        "                if library.bookList.get(i) != 0:\n",
        "                    print(f\"{i} book is borrowed successfully.\")\n",
        "                    self.books[i] = self.books.get(i, 0) + 1\n",
        "                    self.count += 1\n",
        "                    library.bookList[i] = library.bookList.get(i) - 1\n",
        "                    library.borrower[self.name] = library.borrower.get(self.name, 0) + 1\n",
        "                else:\n",
        "                    print(f\"{i} books are not available at the moment.\")\n",
        "            else:\n",
        "                print(\"You cannot borrow more than 5 books.\")\n",
        "\n",
        "    def readerInfo(self, search=None):\n",
        "        if search == None:\n",
        "            print(f\"{self.name}, you have {self.count} book(s) with you.\")\n",
        "            for name, quantity in self.books.items():\n",
        "                print(f\"Books on {name}: {quantity}\")\n",
        "        else:\n",
        "            print(f\"{self.name}, you have {self.books.get(search)} {search} book(s) with you.\")\n",
        "\n",
        "    def preaderInfo(self, search=None):\n",
        "        if search == None:\n",
        "            print(f\"{self.name}, you have {self.count} book(s) with you.\")\n",
        "            for name, quantity in self.books.items():\n",
        "                print(f\"Books on {name}: {quantity}\")\n",
        "        else:\n",
        "            print(f\"{self.name}, you have {self.books.get(search)} {search} book(s) with you.\")\n",
        "\n",
        "L1=Library('Dhaka',{'Arts':15,'Fiction':135,'Politics':2,'Science':11,'Poetry':15})\n",
        "L1.details()\n",
        "print(\"1----------------------\")\n",
        "r1=Reader('Aladdin')\n",
        "r1.borrow(L1,'Arts','Fiction','Fiction','Politics')\n",
        "print(\"2----------------------\")\n",
        "r1.borrow(L1,'Politics','Fiction')\n",
        "print(\"3----------------------\")\n",
        "r1.readerInfo()\n",
        "print(\"4----------------------\")\n",
        "r1.readerInfo('Fiction')\n",
        "print(\"5----------------------\")\n",
        "L1.details()\n",
        "print(\"6----------------------\")\n",
        "r2=Reader('Jasmine')\n",
        "r2.borrow(L1,'Politics','Poetry')\n",
        "print(\"7----------------------\")\n",
        "r2.readerInfo()\n",
        "print(\"8----------------------\")\n",
        "L1.details()\n"
      ],
      "metadata": {
        "id": "uyXgCyVty2rz",
        "colab": {
          "base_uri": "https://localhost:8080/"
        },
        "outputId": "195f0277-a7bb-4144-d423-48b61b334c3b"
      },
      "execution_count": 6,
      "outputs": [
        {
          "output_type": "stream",
          "name": "stdout",
          "text": [
            "Dhaka Library details\n",
            "Borrower details:\n",
            "{}\n",
            "Books availability:\n",
            "{'Arts': 15, 'Fiction': 135, 'Politics': 2, 'Science': 11, 'Poetry': 15}\n",
            "1----------------------\n",
            "Arts book is borrowed successfully.\n",
            "Fiction book is borrowed successfully.\n",
            "Fiction book is borrowed successfully.\n",
            "Politics book is borrowed successfully.\n",
            "2----------------------\n",
            "Politics book is borrowed successfully.\n",
            "You cannot borrow more than 5 books.\n",
            "3----------------------\n",
            "Aladdin, you have 5 book(s) with you.\n",
            "Books on Arts: 1\n",
            "Books on Fiction: 2\n",
            "Books on Politics: 2\n",
            "4----------------------\n",
            "Aladdin, you have 2 Fiction book(s) with you.\n",
            "5----------------------\n",
            "Dhaka Library details\n",
            "Borrower details:\n",
            "{'Aladdin': 5}\n",
            "Books availability:\n",
            "{'Arts': 14, 'Fiction': 133, 'Politics': 0, 'Science': 11, 'Poetry': 15}\n",
            "6----------------------\n",
            "Politics books are not available at the moment.\n",
            "Poetry book is borrowed successfully.\n",
            "7----------------------\n",
            "Jasmine, you have 1 book(s) with you.\n",
            "Books on Poetry: 1\n",
            "8----------------------\n",
            "Dhaka Library details\n",
            "Borrower details:\n",
            "{'Aladdin': 5, 'Jasmine': 1}\n",
            "Books availability:\n",
            "{'Arts': 14, 'Fiction': 133, 'Politics': 0, 'Science': 11, 'Poetry': 14}\n"
          ]
        }
      ]
    },
    {
      "cell_type": "markdown",
      "source": [],
      "metadata": {
        "id": "VXJkQBXu-MAC"
      }
    }
  ]
}