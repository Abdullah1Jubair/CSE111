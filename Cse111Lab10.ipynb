{
  "nbformat": 4,
  "nbformat_minor": 0,
  "metadata": {
    "colab": {
      "provenance": [],
      "authorship_tag": "ABX9TyPMLfs7NEHd1F4zkv7Fwllg",
      "include_colab_link": true
    },
    "kernelspec": {
      "name": "python3",
      "display_name": "Python 3"
    },
    "language_info": {
      "name": "python"
    }
  },
  "cells": [
    {
      "cell_type": "markdown",
      "metadata": {
        "id": "view-in-github",
        "colab_type": "text"
      },
      "source": [
        "<a href=\"https://colab.research.google.com/github/Abdullah1Jubair/CSE111/blob/main/Cse111Lab10.ipynb\" target=\"_parent\"><img src=\"https://colab.research.google.com/assets/colab-badge.svg\" alt=\"Open In Colab\"/></a>"
      ]
    },
    {
      "cell_type": "markdown",
      "source": [
        "# **Class works **\n",
        "### Task 1\n",
        "Given the following classes, write the code for the BBA_Student class so that the following output is printed:"
      ],
      "metadata": {
        "id": "xbg-u-T90cPM"
      }
    },
    {
      "cell_type": "code",
      "source": [
        "class Student:\n",
        "    def __init__(self, name='Just a student', dept='nothing'):\n",
        "        self.__name = name\n",
        "        self.__department = dept\n",
        "    def set_department(self, dept):\n",
        "        self.__department = dept\n",
        "    def get_name(self):\n",
        "        return self.__name\n",
        "    def set_name(self,name):\n",
        "        self.__name = name\n",
        "    def detail(self):\n",
        "        return 'Name: '+self.__name+' Department: '+self.__department\n",
        "\n",
        "\n",
        "#write your code here\n",
        "class BBA_Student(Student):\n",
        "  def __init__(self, name=\"default\", dept=\"BBA\"):\n",
        "    super().__init__(name, dept)\n",
        "\n",
        "  # def Print(self):\n",
        "  #   print(self.__name)\n",
        "\n",
        "print(BBA_Student().detail())\n",
        "print(BBA_Student('Humpty Dumpty').detail())\n",
        "print(BBA_Student('Little Bo Peep').detail())\n",
        "\n",
        "# BBA_Student('Little Bo Peep').Print()"
      ],
      "metadata": {
        "colab": {
          "base_uri": "https://localhost:8080/"
        },
        "id": "40YTryG70c1K",
        "outputId": "121b441f-8e3c-435f-ca20-ffb20e3fcf49"
      },
      "execution_count": null,
      "outputs": [
        {
          "output_type": "stream",
          "name": "stdout",
          "text": [
            "Name: default Department: BBA\n",
            "Name: Humpty Dumpty Department: BBA\n",
            "Name: Little Bo Peep Department: BBA\n"
          ]
        }
      ]
    },
    {
      "cell_type": "markdown",
      "source": [
        "### Task 2\n",
        "A vehicle assumes that the whole world is a 2-dimensional graph paper. It maintains its x and y coordinates (both are integers). The vehicle gets manufactured (constructed) at (0, 0) coordinate.\n",
        "Subtasks:\n",
        "\n",
        "1. Design a Vehicle2010 class that inherits movement methods from Vehicle and adds new methods called move UpperRight, UpperLeft, LowerRight, LowerLeft. Each of these diagonal move methods must re-use two inherited and appropriate move methods.\n",
        "\n",
        "2. Write an “equals” method that tests if significant class properties are the same (in this case x and y).\n",
        "\n",
        "Note: All moves are 1 step. That means a single call to any move method changes value of either x or y or both by 1.\n"
      ],
      "metadata": {
        "id": "OH-Nm5r40p_f"
      }
    },
    {
      "cell_type": "code",
      "source": [
        "class Vehicle:\n",
        "    def __init__(self):\n",
        "        self.x = 0\n",
        "        self.y = 0\n",
        "    def moveUp(self):\n",
        "        self.y += 1\n",
        "    def moveDown(self):\n",
        "        self.y -= 1\n",
        "    def moveRight(self):\n",
        "        self.x += 1\n",
        "    def moveLeft(self):\n",
        "        self.x -= 1\n",
        "    def detail(self):\n",
        "        return '('+str(self.x)+' , '+str(self.y)+')'\n",
        "\n",
        "\n",
        "#write your code here\n",
        "\n",
        "class Vehicle2010(Vehicle):\n",
        "  def moveUpperRight(self):\n",
        "    super().moveUp()\n",
        "    super().moveRight()\n",
        "  def moveUpperLeft(self):\n",
        "    super().moveUp()\n",
        "    super().moveLeft()\n",
        "  def moveLowerRight(self):\n",
        "    super().moveDown()\n",
        "    super().moveRight()\n",
        "  def moveLowerLeft(self):\n",
        "    super().moveDown()\n",
        "    super().moveLeft()\n",
        "\n",
        "  def equals(self, secondCar):\n",
        "    if self.x == secondCar.x and self.y == secondCar.y:\n",
        "      return True\n",
        "    else:\n",
        "      return False\n",
        "\n",
        "\n",
        "print('Part 1')\n",
        "print('------')\n",
        "car = Vehicle()\n",
        "print(car.detail())\n",
        "car.moveUp()\n",
        "print(car.detail())\n",
        "car.moveLeft()\n",
        "print(car.detail())\n",
        "car.moveDown()\n",
        "print(car.detail())\n",
        "car.moveRight()\n",
        "print(car.detail())\n",
        "print('------')\n",
        "print('Part 2')\n",
        "print('------')\n",
        "car1 = Vehicle2010()\n",
        "print(car1.detail())\n",
        "car1.moveLowerLeft()\n",
        "print(car1.detail())\n",
        "car2 = Vehicle2010()\n",
        "car2.moveLeft()\n",
        "print(car1.equals(car2))\n",
        "car2.moveDown()\n",
        "print(car1.equals(car2))"
      ],
      "metadata": {
        "colab": {
          "base_uri": "https://localhost:8080/"
        },
        "id": "9hIltSTQ0pvX",
        "outputId": "624078f9-d584-41d2-a927-4a5602dcb615"
      },
      "execution_count": null,
      "outputs": [
        {
          "output_type": "stream",
          "name": "stdout",
          "text": [
            "Part 1\n",
            "------\n",
            "(0 , 0)\n",
            "(0 , 1)\n",
            "(-1 , 1)\n",
            "(-1 , 0)\n",
            "(0 , 0)\n",
            "------\n",
            "Part 2\n",
            "------\n",
            "(0 , 0)\n",
            "(-1 , -1)\n",
            "False\n",
            "True\n"
          ]
        }
      ]
    },
    {
      "cell_type": "markdown",
      "source": [
        "### Task 3\n",
        "Given the following classes, write the code for the Cricket_Tournament and the Tennis_Tournment class so that the following output is printed."
      ],
      "metadata": {
        "id": "T48B43nM1PE8"
      }
    },
    {
      "cell_type": "code",
      "source": [
        "class Tournament:\n",
        "    def __init__(self,name='Default'):\n",
        "        self.__name = name\n",
        "    def set_name(self,name):\n",
        "        self.__name = name\n",
        "    def get_name(self):\n",
        "        return self.__name\n",
        "\n",
        "#write your code here\n",
        "\n",
        "class Cricket_Tournament(Tournament):\n",
        "    def __init__(self, name=\"Default\", no_of_teams=0, Type='No type'):\n",
        "      super().__init__(name)\n",
        "      self.__no_of_teams = no_of_teams\n",
        "      self.__Type = Type\n",
        "\n",
        "    def detail(self):\n",
        "      return f\"Cricket Tournament Name: {super().get_name()} \\nNumber of Teams: {self.__no_of_teams} \\nType: {self.__Type}\"\n",
        "\n",
        "\n",
        "class Tennis_Tournament(Tournament):\n",
        "    def __init__(self, name, no_of_players):\n",
        "      super().__init__(name)\n",
        "      self.__no_of_players = no_of_players\n",
        "\n",
        "    def detail(self):\n",
        "      return f\"Tennis Tournament Name: {super().get_name()} \\nNumber of Players: {self.__no_of_players}\"\n",
        "\n",
        "ct1 = Cricket_Tournament()\n",
        "print(ct1.detail())\n",
        "print(\"-----------------------\")\n",
        "ct2 = Cricket_Tournament(\"IPL\", 10, \"t20\")\n",
        "print(ct2.detail())\n",
        "print(\"-----------------------\")\n",
        "tt = Tennis_Tournament(\"Roland Garros\",128)\n",
        "print(tt.detail())"
      ],
      "metadata": {
        "colab": {
          "base_uri": "https://localhost:8080/"
        },
        "id": "ScHYMSiC1Pa5",
        "outputId": "d3d10422-2ec3-49f6-938f-0f01d1700781"
      },
      "execution_count": null,
      "outputs": [
        {
          "output_type": "stream",
          "name": "stdout",
          "text": [
            "Cricket Tournament Name: Default \n",
            "Number of Teams: 0 \n",
            "Type: No type\n",
            "-----------------------\n",
            "Cricket Tournament Name: IPL \n",
            "Number of Teams: 10 \n",
            "Type: t20\n",
            "-----------------------\n",
            "Tennis Tournament Name: Roland Garros \n",
            "Number of Players: 128\n"
          ]
        }
      ]
    },
    {
      "cell_type": "markdown",
      "source": [
        "### Task 4\n",
        "\n",
        "Given the following classes, write the code for the Book and the CD class so that the following output is printed."
      ],
      "metadata": {
        "id": "AIuMsd751aBf"
      }
    },
    {
      "cell_type": "code",
      "source": [
        "class Product:\n",
        "    def __init__(self,id, title, price):\n",
        "        self.__id = id\n",
        "        self.__title = title\n",
        "        self.__price = price\n",
        "    def get_id_title_price(self):\n",
        "        return \"ID: \"+str(self.__id)+\" Title:\"+self.__title+        \" Price: \"+str(self.__price)\n",
        "\n",
        "\n",
        "#write your code here\n",
        "\n",
        "class Book(Product):\n",
        "    def __init__(self, id, title, price, isbn, publisher):\n",
        "      super().__init__(id, title, price)\n",
        "      self.__isbn = isbn\n",
        "      self.__publisher = publisher\n",
        "\n",
        "    def printDetail(self):\n",
        "      return super().get_id_title_price() + f\"\\nISBN: {self.__isbn} Publisher: {self.__publisher}\"\n",
        "\n",
        "\n",
        "class CD(Product):\n",
        "    def __init__(self, id, title, price, band, dur, gen):\n",
        "      super().__init__(id, title, price)\n",
        "      self.__band = band\n",
        "      self.__dur = dur\n",
        "      self.__gen = gen\n",
        "\n",
        "    def printDetail(self):\n",
        "      return super().get_id_title_price() + f\"\\nBand: {self.__band} Duration: {self.__dur} minutes Genre: {self.__gen}\"\n",
        "\n",
        "\n",
        "\n",
        "book = Book(1,\"The Alchemist\",500,\"97806\",\"HarperCollins\")\n",
        "print(book.printDetail())\n",
        "print(\"-----------------------\")\n",
        "cd = CD(2,\"Shotto\",300,\"Warfaze\",50,\"Hard Rock\")\n",
        "print(cd.printDetail())"
      ],
      "metadata": {
        "id": "1H3OpE391ZyL"
      },
      "execution_count": null,
      "outputs": []
    },
    {
      "cell_type": "markdown",
      "source": [
        "### Task 5\n",
        "Given the following classes, write the code for the Dog and the Cat class so that the following output is printed.\n",
        "\n"
      ],
      "metadata": {
        "id": "QhA0UizJ1nOk"
      }
    },
    {
      "cell_type": "code",
      "source": [
        "class Animal:\n",
        "    def __init__(self,sound):\n",
        "        self.__sound = sound\n",
        "\n",
        "    def makeSound(self):\n",
        "        return self.__sound\n",
        "\n",
        "class Printer:\n",
        "    def printSound(self, a):\n",
        "        print(a.makeSound())\n",
        "\n",
        "\n",
        "#write your code here\n",
        "\n",
        "class Dog(Animal):\n",
        "  pass\n",
        "\n",
        "class Cat(Animal):\n",
        "  pass\n",
        "\n",
        "\n",
        "d1 = Dog('bark')\n",
        "c1 = Cat('meow')\n",
        "a1 = Animal('Animal does not make sound')\n",
        "pr = Printer()\n",
        "pr.printSound(a1)\n",
        "pr.printSound(c1)\n",
        "pr.printSound(d1)"
      ],
      "metadata": {
        "id": "YCjB6Wex1nFV"
      },
      "execution_count": null,
      "outputs": []
    },
    {
      "cell_type": "markdown",
      "source": [
        "# **Homeworks**\n",
        "###Task 1\n",
        "Given the following classes, write the code for the Triangle and the Trapezoid class so that the following output is printed."
      ],
      "metadata": {
        "id": "sx0Rpwxr11f6"
      }
    },
    {
      "cell_type": "code",
      "execution_count": null,
      "metadata": {
        "colab": {
          "base_uri": "https://localhost:8080/"
        },
        "id": "KfTQj3qhLac1",
        "outputId": "fd11c3a4-10b0-4b1c-c486-3b4c1e231388"
      },
      "outputs": [
        {
          "output_type": "stream",
          "name": "stdout",
          "text": [
            "Shape name: Default\n",
            "Height: 0, Base: 0\n",
            "Area: 0.0\n",
            "--------------------------\n",
            "Shape name: Triangle\n",
            "Height: 10, Base: 5\n",
            "Area: 25.0\n",
            "---------------------------\n",
            "Shape name: Trapezoid\n",
            "Height: 10, Base: 6, Side_A: 4\n",
            "Area: 50.0\n"
          ]
        }
      ],
      "source": [
        "\n",
        "class Shape:\n",
        "\n",
        "  def __init__(self, name='Default', height=0, base=0):\n",
        "    self.area = 0\n",
        "    self.name = name\n",
        "    self.height = height\n",
        "    self.base = base\n",
        "\n",
        "  def get_height_base(self):\n",
        "    return \"Height: \"+str(self.height)+\", Base: \"+str(self.base)\n",
        "\n",
        "class triangle(Shape):\n",
        "    def calcArea(self):\n",
        "        self.area = self.height * self.base / 2\n",
        "    def printDetail(self):\n",
        "        return 'Shape name: ' + self.name + '\\n' + self.get_height_base() + '\\nArea: ' + str(self.area)\n",
        "\n",
        "class trapezoid(Shape):\n",
        "    def __init__(self, name='Default', height=0, base=0, side_a=0):\n",
        "        super().__init__(name=name, height=height, base=base)\n",
        "        self.side_a = side_a\n",
        "\n",
        "    def calcArea(self):\n",
        "        self.area = (self.height * (self.base + self.side_a)) / 2\n",
        "    def printDetail(self):\n",
        "        return 'Shape name: ' + self.name + '\\nHeight: ' + str(self.height) + ', Base: ' + str(self.base) + ', Side_A: ' + str(self.side_a) + '\\nArea: ' + str(self.area)\n",
        "\n",
        "\n",
        "tri_default = triangle()\n",
        "tri_default.calcArea()\n",
        "print(tri_default.printDetail())\n",
        "print('--------------------------')\n",
        "tri = triangle('Triangle', 10, 5)\n",
        "tri.calcArea()\n",
        "print(tri.printDetail())\n",
        "print('---------------------------')\n",
        "trap = trapezoid('Trapezoid', 10, 6, 4)\n",
        "trap.calcArea()\n",
        "print(trap.printDetail())"
      ]
    },
    {
      "cell_type": "markdown",
      "source": [
        "###Task 2\n",
        "Given the following classes, write the code for the Player and the Manager class so that the following output is printed. To calculate the match earnings use the following formula:\n",
        "\n",
        "1. Player: (total_goal * 1000) + (total_match * 10)\n",
        "2. Manager: match_win * 1000\n"
      ],
      "metadata": {
        "id": "Ap4bqDBV19fQ"
      }
    },
    {
      "cell_type": "code",
      "source": [
        "\n",
        "class SportsPerson:\n",
        "\n",
        "  def __init__(self, team_name, name, role):\n",
        "    self.__team = team_name\n",
        "    self.__name = name\n",
        "    self.role = role\n",
        "    self.earning_per_match = 0\n",
        "\n",
        "  def get_name_team(self):\n",
        "    return 'Name: '+self.__name+', Team Name: ' +self.__team\n",
        "\n",
        "\n",
        "class Player(SportsPerson):\n",
        "  def __init__(self, team_name, name, role, total_goal, total_match):\n",
        "    super().__init__(team_name, name, role)\n",
        "    self.total_goal = total_goal\n",
        "    self.total_match = total_match\n",
        "    self.goal_ratio = 0\n",
        "\n",
        "    self.earning_per_match = (total_goal * 1000) + (total_match * 10)\n",
        "\n",
        "  def calculate_ratio(self):\n",
        "    if self.total_match != 0:\n",
        "      self.goal_ratio = self.total_goal / self.total_match\n",
        "\n",
        "  def print_details(self):\n",
        "    print(super().get_name_team())\n",
        "    print(f\"Team Role: {self.role}\")\n",
        "    print(f\"Total Goal: {self.total_goal}, Total Played: {self.total_match}\")\n",
        "    print(f\"Goal Ratio: {self.goal_ratio}\")\n",
        "    print(f\"Match Earning: {self.earning_per_match}k\")\n",
        "\n",
        "class Manager(SportsPerson):\n",
        "  def __init__(self, team_name, name, role, total_win):\n",
        "    super().__init__(team_name, name, role)\n",
        "    self.total_win = total_win\n",
        "\n",
        "    self.earning_per_match = total_win * 1000\n",
        "\n",
        "  def print_details(self):\n",
        "    print(super().get_name_team())\n",
        "    print(f\"Team Role: {self.role}\")\n",
        "    print(f\"Total Win: {self.total_win}\")\n",
        "    print(f\"Match Earning: {self.earning_per_match}k\")\n",
        "\n",
        "player_one = Player('Al-Nassr', 'Ronaldo', 'Striker', 25, 32)\n",
        "player_one.calculate_ratio()\n",
        "player_one.print_details()\n",
        "print('------------------------------------------')\n",
        "manager_one = Manager('Real Madrid', 'Zidane', 'Manager', 25)\n",
        "manager_one.print_details()"
      ],
      "metadata": {
        "colab": {
          "base_uri": "https://localhost:8080/"
        },
        "id": "pe7ZEebWaJch",
        "outputId": "437059f5-0c45-45e8-ceb0-2f0a4c971d82"
      },
      "execution_count": null,
      "outputs": [
        {
          "output_type": "stream",
          "name": "stdout",
          "text": [
            "Name: Ronaldo, Team Name: Al-Nassr\n",
            "Team Role: Striker\n",
            "Total Goal: 25, Total Played: 32\n",
            "Goal Ratio: 0.78125\n",
            "Match Earning: 25320k\n",
            "------------------------------------------\n",
            "Name: Zidane, Team Name: Real Madrid\n",
            "Team Role: Manager\n",
            "Total Win: 25\n",
            "Match Earning: 25000k\n",
            "Part 1\n",
            "------\n",
            "(0 , 0)\n",
            "(0 , 1)\n",
            "(-1 , 1)\n",
            "(-1 , 0)\n",
            "(0 , 0)\n",
            "------\n",
            "Part 2\n",
            "------\n",
            "(0 , 0)\n",
            "(-1 , -1)\n",
            "False\n",
            "True\n"
          ]
        }
      ]
    },
    {
      "cell_type": "markdown",
      "source": [
        "###Task 3\n",
        "The tea company Kazi and Kazi (KK) has decided to produce a new line of flavored teas. Design the KK_tea (parent) and KK_flavoured_tea (child) classes so that the following output is produced. The KK_flavoured_tea class should inherit KK_tea. Note that:\n",
        "\n",
        "* An object of either class represents a single box of teabags.\n",
        "* Each tea bag weighs 2 grams.\n",
        "* The status of an object refers to whether it is sold or not\n",
        "\n",
        "Hint: you should use class methods/variables\n"
      ],
      "metadata": {
        "id": "E4yEfBwP2SrE"
      }
    },
    {
      "cell_type": "code",
      "source": [
        "\n",
        "class  KK_tea:\n",
        "    sell={}\n",
        "    def __init__(self,price,quant=50,name=\"Regular\"):\n",
        "        Main= \"KK \"+name+\" Tea\"\n",
        "        self.name,self.price,self.quant=Main,price,quant\n",
        "        self.weight=2*self.quant\n",
        "        self.sold=False\n",
        "        KK_tea.sell[self.name] = 0\n",
        "\n",
        "    def product_detail(self):\n",
        "        print(f'Name: {self.name}, Weight: {self.weight}\\nTea Bags: {self.quant}, Price: {self.price}\\nStatus: {self.sold}')\n",
        "\n",
        "    @classmethod\n",
        "    def update_sold_status_regular(cls,*items):\n",
        "        for i in items:\n",
        "            i.sold=True\n",
        "            KK_tea.sell[i.name] +=1\n",
        "    @classmethod\n",
        "    def total_sales(cls):\n",
        "       print(f'Total sales: {cls.sell}')\n",
        "\n",
        "\n",
        "class KK_flavoured_tea(KK_tea):\n",
        "    def __init__(self,name,price,quant):\n",
        "        super().__init__(price,quant,name)\n",
        "    @classmethod\n",
        "    def update_sold_status_flavoured(cls,*items):\n",
        "        for i in items:\n",
        "            i.sold=True\n",
        "            KK_tea.sell[i.name] +=1\n",
        "\n",
        "t1 = KK_tea(250)\n",
        "print(\"-----------------1-----------------\")\n",
        "t1.product_detail()\n",
        "print(\"-----------------2-----------------\")\n",
        "KK_tea.total_sales()\n",
        "print(\"-----------------3-----------------\")\n",
        "t2 = KK_tea(470, 100)\n",
        "t3 = KK_tea(360, 75)\n",
        "KK_tea.update_sold_status_regular(t1, t2, t3)\n",
        "print(\"-----------------4-----------------\")\n",
        "t3.product_detail()\n",
        "print(\"-----------------5-----------------\")\n",
        "KK_tea.total_sales()\n",
        "print(\"-----------------6-----------------\")\n",
        "t4 = KK_flavoured_tea(\"Jasmine\", 260, 50)\n",
        "t5 = KK_flavoured_tea(\"Honey Lemon\", 270, 45)\n",
        "t6 = KK_flavoured_tea(\"Honey Lemon\", 270, 45)\n",
        "print(\"-----------------7-----------------\")\n",
        "t4.product_detail()\n",
        "print(\"-----------------8-----------------\")\n",
        "t6.product_detail()\n",
        "print(\"-----------------9-----------------\")\n",
        "KK_flavoured_tea.update_sold_status_flavoured(t4, t5, t6)\n",
        "print(\"-----------------10-----------------\")\n",
        "KK_tea.total_sales()\n"
      ],
      "metadata": {
        "colab": {
          "base_uri": "https://localhost:8080/"
        },
        "id": "e6oFebhoZ7T_",
        "outputId": "ee739caa-1735-4a05-a5cc-00e6721aa27f"
      },
      "execution_count": null,
      "outputs": [
        {
          "output_type": "stream",
          "name": "stdout",
          "text": [
            "-----------------1-----------------\n",
            "Name: KK Regular Tea, Weight: 100\n",
            "Tea Bags: 50, Price: 250\n",
            "Status: False\n",
            "-----------------2-----------------\n",
            "Total sales: {'KK Regular Tea': 0}\n",
            "-----------------3-----------------\n",
            "-----------------4-----------------\n",
            "Name: KK Regular Tea, Weight: 150\n",
            "Tea Bags: 75, Price: 360\n",
            "Status: True\n",
            "-----------------5-----------------\n",
            "Total sales: {'KK Regular Tea': 3}\n",
            "-----------------6-----------------\n",
            "-----------------7-----------------\n",
            "Name: KK Jasmine Tea, Weight: 100\n",
            "Tea Bags: 50, Price: 260\n",
            "Status: False\n",
            "-----------------8-----------------\n",
            "Name: KK Honey Lemon Tea, Weight: 90\n",
            "Tea Bags: 45, Price: 270\n",
            "Status: False\n",
            "-----------------9-----------------\n",
            "-----------------10-----------------\n",
            "Total sales: {'KK Regular Tea': 3, 'KK Jasmine Tea': 1, 'KK Honey Lemon Tea': 2}\n"
          ]
        }
      ]
    },
    {
      "cell_type": "markdown",
      "source": [
        "###Task 4\n",
        "Given a TwoDVector class, design the ThreeDVector class that inherits 2D vector. You need to implement the following features:\n",
        "\n",
        "* Similar to X and Y of 2D vector, there will be Z of 3D vector.\n",
        "* Write a method add3DVectors() that adds 3D vectors. It must reuse the add2DVectors() function and be written with the same parameters. The only difference is that, in 3D vectors, the Z components are added as well.\n",
        "* Write a multiplyScalar() method that takes an integer as parameter and multiplies it with all 3 components separately (scalar multiplication).\n",
        "Write a calculateLength() that returns the length of the 3D vector using the following formula:\n",
        " *    X2+ Y2+Z2\n",
        "* Write a print3DVector() similar to the print2DVector() method.\n",
        "* 2D vector: Xi + Yj\n",
        "* 3D vector: Xi + Yj + Zk\n"
      ],
      "metadata": {
        "id": "tls1qQxD2hiK"
      }
    },
    {
      "cell_type": "code",
      "source": [
        "\n",
        "class TwoDVector:\n",
        "    def __init__(self, x, y):\n",
        "        self.x = x\n",
        "        self.y = y\n",
        "    def add2DVectors(self, *vectors):\n",
        "        for i in vectors:\n",
        "            self.x += i.x\n",
        "            self.y += i.y\n",
        "    def print2DVector(self):\n",
        "        if self.y >= 0:\n",
        "            y = \"+ \"+str(self.y)\n",
        "        else:\n",
        "            y = str(self.y)\n",
        "        print(f\"{self.x}i {y}j\")\n",
        "\n",
        "class ThreeDVector(TwoDVector):\n",
        "  def __init__(self,x,y,z):\n",
        "    super().__init__(x,y)\n",
        "    self.z = z\n",
        "  def add3DVectors(self, *vectors):\n",
        "    for i in vectors:\n",
        "        self.x += i.x\n",
        "        self.y += i.y\n",
        "        self.z +=i.z\n",
        "  def print3DVector(self):\n",
        "        if self.y >= 0:\n",
        "            y = \"+ \"+str(self.y)\n",
        "        else:\n",
        "            y = str(self.y)\n",
        "        if self.z >= 0:\n",
        "            z = \"+ \"+str(self.z)\n",
        "        else:\n",
        "            z = str(self.z)\n",
        "        print(f\"{self.x}i {y}j {z}k\")\n",
        "  def multiplyScalar(self,num):\n",
        "    self.x = self.x*num\n",
        "    self.y = self.y*num\n",
        "    self.z = self.z*num\n",
        "  def calculateLength(self):\n",
        "    length= ((self.x**2)+(self.y**2)+(self.z**2))**(1/2)\n",
        "    return length\n",
        "TwoDV1 = TwoDVector(5, 6)\n",
        "TwoDV2 = TwoDVector(3, 7)\n",
        "TwoDV3 = TwoDVector(1, 8)\n",
        "print(\"===============\")\n",
        "TwoDV1.add2DVectors(TwoDV2, TwoDV3)\n",
        "TwoDV1.print2DVector()\n",
        "print(\"===============\")\n",
        "ThreeDV1 = ThreeDVector(5, 6, 1)\n",
        "ThreeDV2 = ThreeDVector(1, 9, -7)\n",
        "ThreeDV3 = ThreeDVector(8, 2, 4)\n",
        "print(\"===============\")\n",
        "ThreeDV1.add3DVectors(ThreeDV2,ThreeDV3)\n",
        "ThreeDV1.print3DVector()\n",
        "print(\"===============\")\n",
        "ThreeDV1.multiplyScalar(3)\n",
        "ThreeDV1.print3DVector()\n",
        "print(\"===============\")\n",
        "print(ThreeDV1.calculateLength())"
      ],
      "metadata": {
        "id": "EAbBcR7DL879",
        "colab": {
          "base_uri": "https://localhost:8080/"
        },
        "outputId": "6cbcfeb8-ebf4-4852-e7fc-07cc738e7ffe"
      },
      "execution_count": null,
      "outputs": [
        {
          "output_type": "stream",
          "name": "stdout",
          "text": [
            "===============\n",
            "9i + 21j\n",
            "===============\n",
            "===============\n",
            "14i + 17j -2k\n",
            "===============\n",
            "42i + 51j -6k\n",
            "===============\n",
            "66.34003316248794\n"
          ]
        }
      ]
    }
  ]
}