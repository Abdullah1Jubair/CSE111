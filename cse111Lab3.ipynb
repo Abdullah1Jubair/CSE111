{
  "nbformat": 4,
  "nbformat_minor": 0,
  "metadata": {
    "colab": {
      "provenance": [],
      "authorship_tag": "ABX9TyMA6xqgxG8hE/SUpLudZJz7",
      "include_colab_link": true
    },
    "kernelspec": {
      "name": "python3",
      "display_name": "Python 3"
    },
    "language_info": {
      "name": "python"
    }
  },
  "cells": [
    {
      "cell_type": "markdown",
      "metadata": {
        "id": "view-in-github",
        "colab_type": "text"
      },
      "source": [
        "<a href=\"https://colab.research.google.com/github/Abdullah1Jubair/CSE111/blob/main/cse111Lab3.ipynb\" target=\"_parent\"><img src=\"https://colab.research.google.com/assets/colab-badge.svg\" alt=\"Open In Colab\"/></a>"
      ]
    },
    {
      "cell_type": "markdown",
      "source": [
        "\n",
        "\n",
        "You are the proud owner of a magnificent mango orchard where you have different varieties of mango trees such as Fazlee, Langda, Harivanga, Himsagar, etc. But this year, demand for Gopalbhog and Amrapali is too high. To cater to this unsatisfied demand in the future, you have decided to plant these two varieties in your orchard.\n",
        "\n",
        "(i) Now, based on the given driver code, you need to design a MangoTree class.\n",
        "Initially, when you plant a tree, it will have a height of 1 meter and the number of mangoes will be 0.\n",
        "\n",
        "(ii) Suppose 5 years have passed and these small trees have grown larger and started to bear fruit.\n",
        "A mango tree roughly grows 3 meters in one year.\n",
        "Amrapali bears 15 mangoes per meter and Gopalbhog bears 10 mangoes per meter.\n",
        "Now, update the height and number_of_mangoes of both mangoTree1 and mangoTree2, respectively, in the driver code using the formula mentioned above. And print the updated details."
      ],
      "metadata": {
        "id": "wr0U_S81FuBa"
      }
    },
    {
      "cell_type": "code",
      "execution_count": null,
      "metadata": {
        "colab": {
          "base_uri": "https://localhost:8080/"
        },
        "id": "UEcwDWgH7DwP",
        "outputId": "208b0f97-a137-408f-c860-c8598bcd4099"
      },
      "outputs": [
        {
          "output_type": "stream",
          "name": "stdout",
          "text": [
            "=====================================\n",
            "Mango Tree Details:\n",
            "Variety: Gopalbhog\n",
            "Height: 1 meter(s)\n",
            "Number of mangoes on the tree: 0\n",
            "=====================================\n",
            "Mango Tree Details:\n",
            "Variety: Amrapali\n",
            "Height: 1 meter(s)\n",
            "Number of mangoes on the tree: 0\n"
          ]
        }
      ],
      "source": [
        "#Task 2(i)\n",
        "class MangoTree:\n",
        "    def __init__(self,name):\n",
        "        self.variety = name\n",
        "        self.height = 1\n",
        "        self.number_of_mangoes = 0\n",
        "\n",
        "# Driver code\n",
        "mangoTree1= MangoTree(\"Gopalbhog\")\n",
        "# Display the details of the mango tree\n",
        "print(\"=====================================\")\n",
        "print(\"Mango Tree Details:\")\n",
        "print(f\"Variety: {mangoTree1.variety}\")\n",
        "print(f\"Height: {mangoTree1.height} meter(s)\")\n",
        "print(f\"Number of mangoes on the tree: {mangoTree1.number_of_mangoes}\")\n",
        "print(\"=====================================\")\n",
        "mangoTree2= MangoTree(\"Amrapali\")\n",
        "# Display the details of the mango tree\n",
        "print(\"Mango Tree Details:\")\n",
        "print(f\"Variety: {mangoTree2.variety}\")\n",
        "print(f\"Height: {mangoTree2.height} meter(s)\")\n",
        "print(f\"Number of mangoes on the tree: {mangoTree2.number_of_mangoes}\")"
      ]
    },
    {
      "cell_type": "code",
      "source": [
        "#Task 2(ii)\n",
        "class MangoTree:\n",
        "    def __init__(self,name):\n",
        "        self.variety = name\n",
        "        self.height = 1\n",
        "        self.number_of_mangoes = 0\n",
        "\n",
        "#Driver Code\n",
        "mangoTree1= MangoTree(\"Gopalbhog\")\n",
        "# Display the details of the mango tree\n",
        "mangoTree1.height += (3*5)\n",
        "mangoTree1.number_of_mangoes = 10*mangoTree1.height\n",
        "print(\"=====================================\")\n",
        "print(\"Updated details after 5 years:\")\n",
        "print(f\"Variety: {mangoTree1.variety}\")\n",
        "print(f\"Height: {mangoTree1.height} meter(s)\")\n",
        "print(f\"Number of mangoes on the tree: {mangoTree1.number_of_mangoes}\")\n",
        "print(\"=====================================\")\n",
        "mangoTree2= MangoTree(\"Amrapali\")\n",
        "# Display the details of the mango tree\n",
        "mangoTree2.height += (3*5)\n",
        "mangoTree2.number_of_mangoes = 15*mangoTree2.height\n",
        "print(f\"Variety: {mangoTree2.variety}\")\n",
        "print(f\"Height: {mangoTree2.height} meter(s)\")\n",
        "print(f\"Number of mangoes on the tree: {mangoTree2.number_of_mangoes}\")\n"
      ],
      "metadata": {
        "colab": {
          "base_uri": "https://localhost:8080/"
        },
        "id": "csEp46Ky-2m5",
        "outputId": "d0f9a82a-cc73-4269-8615-dbfeb385d04f"
      },
      "execution_count": null,
      "outputs": [
        {
          "output_type": "stream",
          "name": "stdout",
          "text": [
            "=====================================\n",
            "Updated details after 5 years:\n",
            "Variety: Gopalbhog\n",
            "Height: 16 meter(s)\n",
            "Number of mangoes on the tree: 160\n",
            "=====================================\n",
            "Variety: Amrapali\n",
            "Height: 16 meter(s)\n",
            "Number of mangoes on the tree: 240\n"
          ]
        }
      ]
    },
    {
      "cell_type": "markdown",
      "source": [
        "Design the class “Contacts” so that the code produces the expected output. You are not allowed to change the given driver code below."
      ],
      "metadata": {
        "id": "EnBTDFLFGPM6"
      }
    },
    {
      "cell_type": "code",
      "source": [
        "    #Task 3\n",
        "    class Contacts:\n",
        "        def __init__(self,nams,num):\n",
        "            self.names = nams\n",
        "            self.numbers = num\n",
        "            self.contactDict = {}\n",
        "            if len(nams) != len(num):\n",
        "                print(\"Contacts cannot be saved. Length Mismatch!\")\n",
        "            else:\n",
        "                for nam in range(len(nams))    :\n",
        "                    self.contactDict[self.names[nam]] = self.numbers[nam]\n",
        "                print(\"Contacts saved successfully.\")\n",
        "\n",
        "    # Driver code\n",
        "    names = [\"Emergency\", \"Father\", \"Bestie\"]\n",
        "    numbers = [\"999\", \"01xx23\", \"01xx87\", \"01xx65\", \"01xx43\"]\n",
        "\n",
        "    m1 = Contacts(names, numbers)\n",
        "    print(\"Saved Contacts:\", m1.contactDict)\n",
        "    print(\"---------------------------------------------\")\n",
        "\n",
        "    names.append(\"Mother\")\n",
        "    numbers.pop()\n",
        "\n",
        "    m2 = Contacts(names, numbers)\n",
        "    print(\"Saved Contacts:\", m2.contactDict)\n"
      ],
      "metadata": {
        "colab": {
          "base_uri": "https://localhost:8080/"
        },
        "id": "v5gjeTCuCFEy",
        "outputId": "0e401c68-ab62-4d79-cb85-f30bbb45204c"
      },
      "execution_count": null,
      "outputs": [
        {
          "output_type": "stream",
          "name": "stdout",
          "text": [
            "Contacts cannot be saved. Length Mismatch!\n",
            "Saved Contacts: {}\n",
            "---------------------------------------------\n",
            "Contacts saved successfully.\n",
            "Saved Contacts: {'Emergency': '999', 'Father': '01xx23', 'Bestie': '01xx87', 'Mother': '01xx65'}\n"
          ]
        }
      ]
    },
    {
      "cell_type": "markdown",
      "source": [
        "Design the class “Student” so that the code produces the expected output. You are not allowed to change the given driver code below.\n",
        "[Hint:\n",
        "If a student's CGPA is less than 2.00 then s/he is under probation. Probation students can not take less than 1 course and more than 2 courses; otherwise, his/her advising request will be denied.\n",
        "If a student's CGPA is greater than or equal to 2.00, the student will fall under the regular category. Regular students must take at least 3 courses and at most 5 courses, or else his/her advising request will be denied.\n",
        "If a student’s advising request is denied, that means his/her currently taken courses are not finalized. So, the value should be set to 0.]\n"
      ],
      "metadata": {
        "id": "ljGgjOwJGe69"
      }
    },
    {
      "cell_type": "code",
      "source": [
        "#Task 4\n",
        "class Student:\n",
        "    def __init__(self,nams,mark,courses):\n",
        "        self.name = nams\n",
        "        self.cgpa = mark\n",
        "        self.courses_taken = courses\n",
        "\n",
        "        if self.cgpa <= 2.00 and  self.courses_taken<= 2:\n",
        "            print(f\"Study hard this time, {self.name}\")\n",
        "            self.student_status = \"Probation\"\n",
        "            self.advising_status = \"Approved\"\n",
        "        elif self.cgpa >= 2.00 and  3<=self.courses_taken<= 5:\n",
        "            print(f\"All the best, {self.name}, for the upcoming semester\")\n",
        "            self.student_status = \"Regular\"\n",
        "            self.advising_status = \"Approved\"\n",
        "        elif self.cgpa >= 2.00 and  self.courses_taken<= 2:\n",
        "            print(f\"Hello {self.name}, You are a regular student and have to take between 3 to 5 courses\")\n",
        "            self.advising_status = \"Denied\"\n",
        "            self.courses_taken = 0\n",
        "        else:\n",
        "             print(f\"Sorry, {self.name}, you are on probation and cannot take more than 2 courses.\")\n",
        "             self.advising_status = \"Denied\"\n",
        "             self.courses_taken = 0\n",
        "\n",
        "#DRIVER CODE\n",
        "s1 = Student(\"Clark\", 3.45, 4)\n",
        "print(f\"Name: {s1.name}\\nCGPA: {s1.cgpa}\\nCourses Taken: {s1.courses_taken}\")\n",
        "print(f\"Student Status: {s1.student_status}\\nAdvising Status: {s1.advising_status}\")\n",
        "print(\"--------------------------------------------------------------------------------\")\n",
        "s2 = Student(\"Barry\", 1.93, 2)\n",
        "print(f\"Name: {s2.name}\")\n",
        "print(f\"Student Status: {s2.student_status}\\nAdvising Status: {s2.advising_status}\")\n",
        "print(\"--------------------------------------------------------------------------------\")\n",
        "s3 = Student(\"Diana\", 2.91, 2)\n",
        "print(f\"Advising Status: {s3.advising_status}\\nCourses Taken: {s3.courses_taken}\")\n",
        "print(\"--------------------------------------------------------------------------------\")\n",
        "s4 = Student(\"Bruce\", 1.52, 5)\n",
        "print(f\"Advising Status: {s4.advising_status}\\nCourses Taken: {s4.courses_taken}\")\n"
      ],
      "metadata": {
        "colab": {
          "base_uri": "https://localhost:8080/"
        },
        "id": "OudFfHV9IIsl",
        "outputId": "36b7f3f6-f2d8-42a6-8d24-2896487f4d9e"
      },
      "execution_count": null,
      "outputs": [
        {
          "output_type": "stream",
          "name": "stdout",
          "text": [
            "All the best, Clark, for the upcoming semester\n",
            "Name: Clark\n",
            "CGPA: 3.45\n",
            "Courses Taken: 4\n",
            "Student Status: Regular\n",
            "Advising Status: Approved\n",
            "--------------------------------------------------------------------------------\n",
            "Study hard this time, Barry\n",
            "Name: Barry\n",
            "Student Status: Probation\n",
            "Advising Status: Approved\n",
            "--------------------------------------------------------------------------------\n",
            "Hello Diana, You are a regular student and have to take between 3 to 5 courses\n",
            "Advising Status: Denied\n",
            "Courses Taken: 0\n",
            "--------------------------------------------------------------------------------\n",
            "Sorry, Bruce, you are on probation and cannot take more than 2 courses.\n",
            "Advising Status: Denied\n",
            "Courses Taken: 0\n"
          ]
        }
      ]
    },
    {
      "cell_type": "markdown",
      "source": [
        "Suppose you are hired by the authority of a library that only keeps antique books. They want you to build a management system to keep track of the books. They have given an instruction manual:\n",
        "1. Only books that are antique enough are kept in the library. [hint: analyze the driver code and the output to find the minimum age of a book to be considered antique.]\n",
        "2. Library has 3 floors. Floor 0,1 and 2. The comparatively antique books are stored on the higher floors. Books that were published less than 200 years ago are stored on floor 0, published at least 200 years ago are stored on floor 1, and published at least 400 years ago are stored on floor 2.\n",
        "Now, design a class called ‘Book’ using a parameterized constructor so that after executing the driver code, the desired result shown in the output section will be printed.\n",
        "Hint: You can use the following lines of code to find out the current year.\n",
        "import datetime #Import this module at the top of your code.\n",
        "today = datetime.date.today() #This will give you today’s date.\n",
        "year = today.year #Extracting the year from today’s date.\n",
        "\n",
        "\n",
        "\n"
      ],
      "metadata": {
        "id": "wNqc4MzGGojS"
      }
    },
    {
      "cell_type": "code",
      "source": [
        "#Home Task 1\n",
        "import datetime #Import this module at the top of your code.\n",
        "\n",
        "class Book:\n",
        "    def __init__(self,name,writer,year):\n",
        "        self.name = name\n",
        "        self.author = writer\n",
        "        self.year_of_publication = year\n",
        "        today = datetime.date.today() #This will give you today’s date.\n",
        "        self.year = today.year #Extracting the year from today’s date\n",
        "        check = (self.year-self.year_of_publication)\n",
        "\n",
        "        print(\"Checking the book.\")\n",
        "        if 101 <= check <= 199:\n",
        "            self.status = \"This book is Accepted. The book is stored on floor: 0\"\n",
        "        elif 200<= check <=399:\n",
        "            self.status = \"This book is Accepted. The book is stored on floor: 1\"\n",
        "        elif 400<= check:\n",
        "            self.status = \"This book is Accepted. The book is stored on floor: 2\"\n",
        "        else:\n",
        "            self.status = \"This book is Rejected. The book is not antique enough.\"\n",
        "\n",
        "#Driver Code\n",
        "book1= Book('The Act', 'Ferguson', 1924)\n",
        "print(f\"{book1.author} wrote the book '{book1.name}'.\")\n",
        "print(f\"This book was published in {book1.year_of_publication}.\")\n",
        "print(f\"This book is {book1.status}\")\n",
        "print(\"-------------------------------------\")\n",
        "book2= Book('Flame', 'Nolan', 1932)\n",
        "print(f\"{book2.author} wrote the book '{book2.name}'.\")\n",
        "print(f\"This book was published in {book2.year_of_publication}.\")\n",
        "print(f\"This book is {book2.status}\")\n",
        "print(\"-------------------------------------\")\n",
        "book3= Book('Norms', 'Alfred', 1832)\n",
        "print(f\"{book3.author} wrote the book '{book3.name}'.\")\n",
        "print(f\"This book was published in {book3.year_of_publication}.\")\n",
        "print(f\"This book is {book3.status}\")\n",
        "print(\"-------------------------------------\")\n",
        "book4= Book('Apex', 'Samson', 1923)\n",
        "print(f\"{book4.author} wrote the book '{book4.name}'.\")\n",
        "print(f\"This book was published in {book4.year_of_publication}.\")\n",
        "print(f\"This book is {book4.status}\")\n",
        "print(\"-------------------------------------\")\n",
        "book5= Book('Habitat', 'Eden', 1723)\n",
        "print(f\"{book5.author} wrote the book '{book5.name}'.\")\n",
        "print(f\"This book was published in {book5.year_of_publication}.\")\n",
        "print(f\"This book is {book5.status}\")\n",
        "print(\"-------------------------------------\")\n",
        "book6= Book('Apocalypto', 'Menez', 1603)\n",
        "print(f\"{book6.author} wrote the book '{book6.name}'.\")\n",
        "print(f\"This book was published in {book6.year_of_publication}.\")\n",
        "print(f\"This book is {book6.status}\")"
      ],
      "metadata": {
        "colab": {
          "base_uri": "https://localhost:8080/"
        },
        "id": "3jnOspso583x",
        "outputId": "00723afd-7fff-4de6-acc1-35dfa7d3f478"
      },
      "execution_count": null,
      "outputs": [
        {
          "output_type": "stream",
          "name": "stdout",
          "text": [
            "Checking the book.\n",
            "Ferguson wrote the book 'The Act'.\n",
            "This book was published in 1924.\n",
            "This book is This book is Rejected. The book is not antique enough.\n",
            "-------------------------------------\n",
            "Checking the book.\n",
            "Nolan wrote the book 'Flame'.\n",
            "This book was published in 1932.\n",
            "This book is This book is Rejected. The book is not antique enough.\n",
            "-------------------------------------\n",
            "Checking the book.\n",
            "Alfred wrote the book 'Norms'.\n",
            "This book was published in 1832.\n",
            "This book is This book is Accepted. The book is stored on floor: 0\n",
            "-------------------------------------\n",
            "Checking the book.\n",
            "Samson wrote the book 'Apex'.\n",
            "This book was published in 1923.\n",
            "This book is This book is Accepted. The book is stored on floor: 0\n",
            "-------------------------------------\n",
            "Checking the book.\n",
            "Eden wrote the book 'Habitat'.\n",
            "This book was published in 1723.\n",
            "This book is This book is Accepted. The book is stored on floor: 1\n",
            "-------------------------------------\n",
            "Checking the book.\n",
            "Menez wrote the book 'Apocalypto'.\n",
            "This book was published in 1603.\n",
            "This book is This book is Accepted. The book is stored on floor: 2\n"
          ]
        }
      ]
    },
    {
      "cell_type": "markdown",
      "source": [
        "Design a class called Pokemon using a parameterized constructor so that after executing the following line of code the desired result shown in the output box will be printed.\n",
        "The first object along with print has been done for you, you also need to create other objects and print accordingly to get the output correctly.\n",
        "Subtasks:\n",
        "1. Design the Pokemon class using a parameterized constructor.\n",
        "The 5 values that are being passed through the constructor are respectively:\n",
        "pokemon 1 name,\n",
        "pokemon 2 name,\n",
        "pokemon 1 power,\n",
        "pokemon 2 power and\n",
        "damage rate\n",
        "2. Create an object named team_bulb and pass the values 'bulbasaur', 'squirtle', 80, 70, 9 respectively."
      ],
      "metadata": {
        "id": "4dhtrCWAG-F5"
      }
    },
    {
      "cell_type": "code",
      "source": [
        "#Home Task 2\n",
        "class Pokemon:\n",
        "    def __init__(self,name1,name2,power1,power2,damage):\n",
        "        self.pokemon1_name = name1\n",
        "        self.pokemon1_power = power1\n",
        "        self.pokemon2_name = name2\n",
        "        self.pokemon2_power = power2\n",
        "        self.damage_rate = damage\n",
        "\n",
        "team_pika = Pokemon('pikachu', 'charmander', 90, 60, 10)\n",
        "print('=======Team 1=======')\n",
        "print('Pokemon 1:',team_pika.pokemon1_name, team_pika.pokemon1_power)\n",
        "print('Pokemon 2:',team_pika.pokemon2_name, team_pika.pokemon2_power)\n",
        "pika_combined_power = (team_pika.pokemon1_power + team_pika.pokemon2_power) * team_pika.damage_rate\n",
        "print('Combined Power:', pika_combined_power)\n",
        "\n",
        "team_bulb = Pokemon('bulbasaur', 'squirtle', 80, 70, 9)\n",
        "print('=======Team 2=======')\n",
        "print('Pokemon 1:',team_bulb.pokemon1_name, team_bulb.pokemon1_power)\n",
        "print('Pokemon 2:',team_bulb.pokemon2_name, team_bulb.pokemon2_power)\n",
        "bulb_combined_power = (team_bulb.pokemon1_power + team_bulb.pokemon2_power) * team_bulb.damage_rate\n",
        "print('Combined Power:', bulb_combined_power)"
      ],
      "metadata": {
        "colab": {
          "base_uri": "https://localhost:8080/"
        },
        "id": "d4s5GbfOCNRl",
        "outputId": "dac664dd-3245-4368-aa17-c779dee87b65"
      },
      "execution_count": null,
      "outputs": [
        {
          "output_type": "stream",
          "name": "stdout",
          "text": [
            "=======Team 1=======\n",
            "Pokemon 1: pikachu 90\n",
            "Pokemon 2: charmander 60\n",
            "Combined Power: 1500\n",
            "=======Team 2=======\n",
            "Pokemon 1: bulbasaur 80\n",
            "Pokemon 2: squirtle 70\n",
            "Combined Power: 1350\n"
          ]
        }
      ]
    },
    {
      "cell_type": "markdown",
      "source": [
        "Write the box class so that the given drive code gives the expected output."
      ],
      "metadata": {
        "id": "-yptht7FHmWs"
      }
    },
    {
      "cell_type": "code",
      "source": [
        "#Home Task 3 (A)\n",
        "class box:\n",
        "    def __init__(self,arg):\n",
        "        self.height = arg[0]\n",
        "        self.width = arg[1]\n",
        "        self.breadth = arg[2]\n",
        "        print(\"Creating a Box!\")\n",
        "#Driver Code\n",
        "print(\"Box 1\")\n",
        "b1 = box([10,10,10])\n",
        "print(\"=========================\")\n",
        "print(\"Height:\", b1.height)\n",
        "print(\"Width:\", b1.width)\n",
        "print(\"Breadth:\", b1.breadth)\n",
        "volume = b1.height * b1.width * b1.breadth\n",
        "print(f\"Volume of the box is {volume} cubic units.\")\n",
        "print(\"-------------------------\")\n",
        "print(\"Box 2\")\n",
        "b2 = box((30,10,10))\n",
        "print(\"=========================\")\n",
        "print(\"Height:\", b2.height)\n",
        "print(\"Width:\", b2.width)\n",
        "print(\"Breadth:\", b2.breadth)\n",
        "volume = b2.height * b2.width * b2.breadth\n",
        "print(f\"Volume of the box is {volume} cubic units.\")\n",
        "b2.height = 300\n",
        "print(\"Updating Box 2!\")\n",
        "print(\"Height:\", b2.height)\n",
        "print(\"Width:\", b2.width)\n",
        "print(\"Breadth:\", b2.breadth)\n",
        "volume = b2.height * b2.width * b2.breadth\n",
        "print(f\"Volume of the box is {volume} cubic units.\")\n",
        "print(\"-------------------------\")\n",
        "print(\"Box 3\")\n",
        "b3 = b2\n",
        "print(\"Height:\", b3.height)\n",
        "print(\"Width:\", b3.width)\n",
        "print(\"Breadth:\", b3.breadth)\n",
        "volume = b3.height * b3.width * b3.breadth\n",
        "print(f\"Volume of the box is {volume} cubic units.\")"
      ],
      "metadata": {
        "colab": {
          "base_uri": "https://localhost:8080/"
        },
        "id": "-KYUv1Z2CaeN",
        "outputId": "004667bb-6b16-432d-de03-9e99b51fbad9"
      },
      "execution_count": null,
      "outputs": [
        {
          "output_type": "stream",
          "name": "stdout",
          "text": [
            "Box 1\n",
            "Creating a Box!\n",
            "=========================\n",
            "Height: 10\n",
            "Width: 10\n",
            "Breadth: 10\n",
            "Volume of the box is 1000 cubic units.\n",
            "-------------------------\n",
            "Box 2\n",
            "Creating a Box!\n",
            "=========================\n",
            "Height: 30\n",
            "Width: 10\n",
            "Breadth: 10\n",
            "Volume of the box is 3000 cubic units.\n",
            "Updating Box 2!\n",
            "Height: 300\n",
            "Width: 10\n",
            "Breadth: 10\n",
            "Volume of the box is 30000 cubic units.\n",
            "-------------------------\n",
            "Box 3\n",
            "Height: 300\n",
            "Width: 10\n",
            "Breadth: 10\n",
            "Volume of the box is 30000 cubic units.\n"
          ]
        }
      ]
    },
    {
      "cell_type": "code",
      "source": [
        "#Home Task 3 (B)\n",
        "class box:\n",
        "    def __init__(self,arg):\n",
        "        self.height = arg[0]\n",
        "        self.width = arg[1]\n",
        "        self.breadth = arg[2]\n",
        "        print(\"Creating a Box!\")\n",
        "\n",
        "\n",
        "#Driver Code\n",
        "print(\"Box 1\")\n",
        "b1 = box([10,10,10])\n",
        "print(\"=========================\")\n",
        "print(\"Height:\", b1.height)\n",
        "print(\"Width:\", b1.width)\n",
        "print(\"Breadth:\", b1.breadth)\n",
        "volume = b1.height * b1.width * b1.breadth\n",
        "print(f\"Volume of the box is {volume} cubic units.\")\n",
        "print(\"-------------------------\")\n",
        "print(\"Box 2\")\n",
        "b2 = box((30,10,10))\n",
        "print(\"=========================\")\n",
        "print(\"Height:\", b2.height)\n",
        "print(\"Width:\", b2.width)\n",
        "print(\"Breadth:\", b2.breadth)\n",
        "volume = b2.height * b2.width * b2.breadth\n",
        "print(f\"Volume of the box is {volume} cubic units.\")\n",
        "b2.height = 300\n",
        "print(\"Updating Box 2!\")\n",
        "print(\"Height:\", b2.height)\n",
        "print(\"Width:\", b2.width)\n",
        "print(\"Breadth:\", b2.breadth)\n",
        "volume = b2.height * b2.width * b2.breadth\n",
        "print(f\"Volume of the box is {volume} cubic units.\")\n",
        "print(\"-------------------------\")\n",
        "print(\"Box 3\")\n",
        "b3 = b2\n",
        "print(\"Height:\", b3.height)\n",
        "print(\"Width:\", b3.width)\n",
        "print(\"Breadth:\", b3.breadth)\n",
        "volume = b3.height * b3.width * b3.breadth\n",
        "print(f\"Volume of the box is {volume} cubic units.\")\n",
        "\n",
        "\n",
        "one = (b3 == b2)\n",
        "b3.width = 100\n",
        "two = (b3 == b2)\n",
        "print(b2.width)"
      ],
      "metadata": {
        "colab": {
          "base_uri": "https://localhost:8080/"
        },
        "id": "tlVAEZyyEMOF",
        "outputId": "926332df-b960-4fd8-9e69-825031ded6fa"
      },
      "execution_count": null,
      "outputs": [
        {
          "output_type": "stream",
          "name": "stdout",
          "text": [
            "Box 1\n",
            "Creating a Box!\n",
            "=========================\n",
            "Height: 10\n",
            "Width: 10\n",
            "Breadth: 10\n",
            "Volume of the box is 1000 cubic units.\n",
            "-------------------------\n",
            "Box 2\n",
            "Creating a Box!\n",
            "=========================\n",
            "Height: 30\n",
            "Width: 10\n",
            "Breadth: 10\n",
            "Volume of the box is 3000 cubic units.\n",
            "Updating Box 2!\n",
            "Height: 300\n",
            "Width: 10\n",
            "Breadth: 10\n",
            "Volume of the box is 30000 cubic units.\n",
            "-------------------------\n",
            "Box 3\n",
            "Height: 300\n",
            "Width: 10\n",
            "Breadth: 10\n",
            "Volume of the box is 30000 cubic units.\n",
            "100\n"
          ]
        }
      ]
    }
  ]
}