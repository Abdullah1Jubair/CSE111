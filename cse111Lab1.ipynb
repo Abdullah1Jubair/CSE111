{
  "nbformat": 4,
  "nbformat_minor": 0,
  "metadata": {
    "colab": {
      "provenance": [],
      "authorship_tag": "ABX9TyMST/plcGk3+gRWRNXpYSJ/",
      "include_colab_link": true
    },
    "kernelspec": {
      "name": "python3",
      "display_name": "Python 3"
    },
    "language_info": {
      "name": "python"
    }
  },
  "cells": [
    {
      "cell_type": "markdown",
      "metadata": {
        "id": "view-in-github",
        "colab_type": "text"
      },
      "source": [
        "<a href=\"https://colab.research.google.com/github/Abdullah1Jubair/CSE111/blob/main/cse111Lab1.ipynb\" target=\"_parent\"><img src=\"https://colab.research.google.com/assets/colab-badge.svg\" alt=\"Open In Colab\"/></a>"
      ]
    },
    {
      "cell_type": "code",
      "execution_count": null,
      "metadata": {
        "colab": {
          "base_uri": "https://localhost:8080/"
        },
        "id": "-ayOr9m74Pup",
        "outputId": "a6927dc0-9e3c-4aba-f234-5d531dbcd983"
      },
      "outputs": [
        {
          "output_type": "stream",
          "name": "stdout",
          "text": [
            "Please enter your number: 10\n",
            "Please enter your number: 20\n",
            "Please enter your number: 10\n",
            "Please enter your number: STOP\n",
            "10- 2 times\n",
            "20- 1 times\n"
          ]
        }
      ],
      "source": [
        "#Task 1\n",
        "a_list = []\n",
        "while True:\n",
        "  user = input(\"Please enter your number: \")\n",
        "  if user == \"STOP\":\n",
        "    break\n",
        "  else:\n",
        "    number = int(user)\n",
        "    a_list.append(number)\n",
        "b_list = []\n",
        "for i in range(len(a_list)):\n",
        "  if a_list[i] not in b_list:\n",
        "    b_list.append(a_list[i])\n",
        "\n",
        "for i in range(len(b_list)):\n",
        "  count = 0\n",
        "  for j in range(len(a_list)):\n",
        "    if  a_list[j]==b_list[i]:\n",
        "      count = count+1\n",
        "  print(f\"{b_list[i]}- {count} times\")"
      ]
    },
    {
      "cell_type": "code",
      "source": [
        "# Task 3\n",
        "a_list = [2, 3, 6]\n",
        "b_list = [3, 4, 5]\n",
        "sesh = []\n",
        "for i in range(len(a_list)):\n",
        "  for j in range(len(b_list)):\n",
        "     gun = a_list[i] * b_list[j]\n",
        "     sesh.append(gun)\n",
        "print(sesh)\n"
      ],
      "metadata": {
        "colab": {
          "base_uri": "https://localhost:8080/"
        },
        "id": "-xON3QBCzGiU",
        "outputId": "babd2ffc-c422-44b4-b09b-2fb41f513246"
      },
      "execution_count": null,
      "outputs": [
        {
          "output_type": "stream",
          "name": "stdout",
          "text": [
            "[6, 8, 10, 9, 12, 15, 18, 24, 30]\n"
          ]
        }
      ]
    },
    {
      "cell_type": "code",
      "source": [
        "#Task 4\n",
        "while True:\n",
        "  faka_list = []\n",
        "  new_list = []\n",
        "  new_list2 = []\n",
        "  user = input(\"input den: \")\n",
        "  if user == \"STOP\":\n",
        "    break\n",
        "  new_list1 ="
      ],
      "metadata": {
        "id": "IpinQSDN3xTQ"
      },
      "execution_count": null,
      "outputs": []
    },
    {
      "cell_type": "code",
      "source": [
        "#Task 2\n",
        "n = int(input())\n",
        "max = 0\n",
        "faka = []\n",
        "for i in range(n):\n",
        "  list1 = input(\"list daw :\")\n",
        "  list_banabo = list1.split()\n",
        "  ashol_list = []\n",
        "  for i in range(len(list_banabo))  :\n",
        "    ashol_list.append(int(list_banabo[i]))\n",
        "  sum = 0\n",
        "  for j in range(len(ashol_list))  :\n",
        "    sum += ashol_list[j]\n",
        "    if sum>max:\n",
        "      max = sum\n",
        "      faka = ashol_list\n",
        "\n",
        "print(max)\n",
        "print(faka)"
      ],
      "metadata": {
        "id": "V3-JNceXLKTl",
        "colab": {
          "base_uri": "https://localhost:8080/"
        },
        "outputId": "548d6058-27e1-44eb-9260-6e17bdca06f8"
      },
      "execution_count": null,
      "outputs": [
        {
          "output_type": "stream",
          "name": "stdout",
          "text": [
            "4\n",
            "list daw :1 2 3\n",
            "list daw :4 5 6\n",
            "list daw :7 8 9\n",
            "list daw :10 11 12\n",
            "33\n",
            "[10, 11, 12]\n"
          ]
        }
      ]
    },
    {
      "cell_type": "code",
      "source": [
        "#Task 5\n",
        "\n",
        "user = input(\"Please give your sentence: \")\n",
        "choto = []\n",
        "boro = []\n",
        "sonkha= []\n",
        "faka2 = []\n",
        "faka = \"\"\n",
        "for i in user:\n",
        "  if 65<= ord(i)<=90:\n",
        "    boro += i\n",
        "  elif 97 <= ord(i)<=122:\n",
        "    choto += i\n",
        "  else:\n",
        "    sonkha += i\n",
        "\n",
        "for i in range(len(choto)):\n",
        "        for j in range(0, len(choto)-i-1):\n",
        "            if choto[j] > choto[j+1]:\n",
        "                choto[j], choto[j+1] = choto[j+1], choto[j]\n",
        "for i in range(len(choto)):\n",
        "  faka2.append(choto[i])\n",
        "\n",
        "for i in range(len(boro)):\n",
        "        for j in range(0, len(boro)-i-1):\n",
        "            if boro[j] > boro[j+1]:\n",
        "                boro[j], boro[j+1] = boro[j+1], boro[j]\n",
        "\n",
        "for i in range(len(boro)):\n",
        "  faka2.append(boro[i])\n",
        "\n",
        "for i in range(1, len(sonkha)+1, 2):\n",
        "    for j in user:\n",
        "        if ord(j) == i + ord('0'):\n",
        "          faka2.append(j)\n",
        "\n",
        "for i in range(0, len(sonkha)+1, 2):\n",
        "    for j in user:\n",
        "        if ord(j) == i + ord('0'):\n",
        "          faka2.append(j)\n",
        "\n",
        "for i in range(len(faka2)):\n",
        "  faka += faka2[i]\n",
        "print(faka)"
      ],
      "metadata": {
        "id": "7kuqJjf59RPC",
        "colab": {
          "base_uri": "https://localhost:8080/"
        },
        "outputId": "1063ad4e-63b4-4e83-9648-d1eee1c1e6bb"
      },
      "execution_count": null,
      "outputs": [
        {
          "output_type": "stream",
          "name": "stdout",
          "text": [
            "Please give your sentence: Bracu1234\n",
            "['a', 'c', 'r', 'u', 'B', '1', '3']\n",
            "['a', 'c', 'r', 'u', 'B', '1', '3', '2', '4']\n",
            "acruB1324\n"
          ]
        }
      ]
    },
    {
      "cell_type": "code",
      "source": [
        "#Task 6\n",
        "user1 = input(\"sonkha den :\").split()\n",
        "user2 = input(\"Koybar participate korse: \").split()\n",
        "faka_list = []\n",
        "rekta_list = []\n",
        "for i in user1:\n",
        "  i = int(i)\n",
        "  faka_list.append(i)\n",
        "for i in faka_list:\n",
        "  n = faka_list[0]\n",
        "  k = faka_list[1]\n",
        "for i in user2:\n",
        "  i = int(i)\n",
        "  rekta_list.append(i)\n",
        "check_list = []\n",
        "for i in rekta_list:\n",
        "  i += k\n",
        "  check_list.append(i)\n",
        "team_list = []\n",
        "for i in check_list:\n",
        "  if i<=5:\n",
        "    team_list.append(i)\n",
        "max_team = 0\n",
        "max_team = len(team_list)//3\n",
        "print(max_team)\n"
      ],
      "metadata": {
        "colab": {
          "base_uri": "https://localhost:8080/"
        },
        "id": "ERMV38SO29L-",
        "outputId": "a8de7d20-6782-4f81-eb6d-0768375c77d2"
      },
      "execution_count": null,
      "outputs": [
        {
          "output_type": "stream",
          "name": "stdout",
          "text": [
            "sonkha den :5 2\n",
            "Koybar participate kose: 0 4 5 1 0\n",
            "1\n"
          ]
        }
      ]
    },
    {
      "cell_type": "code",
      "source": [
        "#Dictionary Task1\n",
        "user1 = input(\"dictionary den : \").split(', ')\n",
        "user2 = input(\"dictionary den : \").split(', ')\n",
        "eksathe = user1 + user2\n",
        "ashol_dict = {}\n",
        "for i in eksathe:\n",
        "  i = i.split(':')\n",
        "  if i[0] not in ashol_dict.keys():\n",
        "    ashol_dict[i[0]]= int(i[1])\n",
        "  elif i[0] in ashol_dict.keys():\n",
        "    ashol_dict[i[0]] = ashol_dict[i[0]] + int(i[1])\n",
        "values = []\n",
        "for y in ashol_dict.values():\n",
        "  if y not in values:\n",
        "    values.append(y)\n",
        "for j in range(len(values)):\n",
        "  for k in range(len(values)-1):\n",
        "    if values[k] > values[k+1]:\n",
        "      values[k],values[k+1] = values[k+1] , values[k]\n",
        "print(ashol_dict)\n",
        "print(f\"Values: {tuple(values)}\")\n"
      ],
      "metadata": {
        "colab": {
          "base_uri": "https://localhost:8080/"
        },
        "id": "HC8os7rMOXQU",
        "outputId": "9276a7f3-65d0-4314-84df-d0e49e4b6a57"
      },
      "execution_count": null,
      "outputs": [
        {
          "output_type": "stream",
          "name": "stdout",
          "text": [
            "dictionary den : a: 100, b: 100, c: 200, d: 300\n",
            "dictionary den : a: 300, b: 200, d: 400, e: 200\n",
            "{'a': 400, 'b': 300, 'c': 200, 'd': 700, 'e': 200}\n",
            "Values: (400, 300, 200, 700)\n"
          ]
        }
      ]
    },
    {
      "cell_type": "code",
      "source": [
        "#Task 2\n",
        "dic = {}\n",
        "while True:\n",
        "  x = input(\"Enter Numbers: \")\n",
        "  if x == \"STOP\":\n",
        "    break\n",
        "  else:\n",
        "    if x not in dic.keys():\n",
        "      dic[x] = 1\n",
        "    elif x in dic.keys():\n",
        "      dic[x] = dic[x] + 1\n",
        "for p, q in dic.items():\n",
        "  print(f\"{int(p)} - {q} times\")"
      ],
      "metadata": {
        "colab": {
          "base_uri": "https://localhost:8080/"
        },
        "id": "MXt7mr3KprP-",
        "outputId": "21c80d0f-2de0-4c91-f699-493c59217b39"
      },
      "execution_count": null,
      "outputs": [
        {
          "output_type": "stream",
          "name": "stdout",
          "text": [
            "Enter Numbers: 10\n",
            "Enter Numbers: 20\n",
            "Enter Numbers: 10\n",
            "Enter Numbers: 10\n",
            "Enter Numbers: STOP\n",
            "10 - 3 times\n",
            "20 - 1 times\n"
          ]
        }
      ]
    },
    {
      "cell_type": "code",
      "source": [
        "#Task 3\n",
        "inp = input().split(\",\")\n",
        "dic = {}\n",
        "for x in inp:\n",
        "    x = x.split(\":\" )\n",
        "    if x[1] in dic:\n",
        "        if x[0] not in dic[x[1]]:\n",
        "            dic[x[1]].append(x[0])\n",
        "    else:\n",
        "        dic[x[1]] = [x[0]]\n",
        "print(dic)\n",
        "#print(dic[x[1]])"
      ],
      "metadata": {
        "colab": {
          "base_uri": "https://localhost:8080/"
        },
        "id": "_d9QFhKoyfsl",
        "outputId": "578c63b9-9dac-4be9-f0c7-d03f391975c6"
      },
      "execution_count": null,
      "outputs": [
        {
          "output_type": "stream",
          "name": "stdout",
          "text": [
            "key1 : value1, key2 : value2, key3 : value1\n",
            "{' value1': ['key1 ', ' key3 '], ' value2': [' key2 ']}\n"
          ]
        }
      ]
    },
    {
      "cell_type": "code",
      "source": [
        "#Task 4\n",
        "string=input(\"Please enter string: \")\n",
        "diction={}\n",
        "\n",
        "length=len(string)\n",
        "for i in range(length):\n",
        "  x=string[i]\n",
        "  if 64<ord(x)<91:\n",
        "    x=chr(ord(x)+32)\n",
        "\n",
        "  if x in diction:\n",
        "      diction[x] = diction[x]+1\n",
        "\n",
        "  elif x!=\" \":\n",
        "      diction[x]= 1\n",
        "\n",
        "print(diction)"
      ],
      "metadata": {
        "colab": {
          "base_uri": "https://localhost:8080/"
        },
        "id": "GEyAtFz_zlXc",
        "outputId": "11a2525b-1ae4-4b41-8780-dc913f4e1d06"
      },
      "execution_count": null,
      "outputs": [
        {
          "output_type": "stream",
          "name": "stdout",
          "text": [
            "Please enter string: Python programming is fun\n",
            "{'p': 2, 'y': 1, 't': 1, 'h': 1, 'o': 2, 'n': 3, 'r': 2, 'g': 2, 'a': 1, 'm': 2, 'i': 2, 's': 1, 'f': 1, 'u': 1}\n"
          ]
        }
      ]
    },
    {
      "cell_type": "code",
      "source": [
        "#Task 5\n",
        "user1 = input(\"String den : \")\n",
        "user2 = input(\"String den : \")\n",
        "faka = {}\n",
        "for i in range(len(user1)):\n",
        "    i = user1[i]\n",
        "    if i in faka:\n",
        "      faka[i] = faka[i]+1\n",
        "    else:\n",
        "      faka[i]  = 1\n",
        "arekta_faka = {}\n",
        "for i in range(len(user2)):\n",
        "    i = user2[i]\n",
        "    if i in arekta_faka:\n",
        "      arekta_faka[i] = arekta_faka[i]+1\n",
        "    else:\n",
        "      arekta_faka[i] = 1\n",
        "\n",
        "if len(user1) == len(user2):\n",
        "    count = 0\n",
        "    for p in range(len(user2)):\n",
        "      if faka[user1[p]]== arekta_faka[user2[p]]:\n",
        "        count += 1\n",
        "    if count == len(user1):\n",
        "        print(\"Those strings are anagrams\")\n",
        "    else:\n",
        "        print(\"Those strings are not anagrams\")\n",
        "else:\n",
        "    print(\"Those strings are not anagrams\")\n",
        "\n"
      ],
      "metadata": {
        "colab": {
          "base_uri": "https://localhost:8080/"
        },
        "id": "SZmO9Z8zibaW",
        "outputId": "ff63f98c-1f90-4fa4-a296-c0b23479ce99"
      },
      "execution_count": null,
      "outputs": [
        {
          "output_type": "stream",
          "name": "stdout",
          "text": [
            "String den : evil\n",
            "String den : live\n",
            "Those strings are anagrams\n"
          ]
        }
      ]
    },
    {
      "cell_type": "code",
      "source": [
        "#Task 6\n",
        "user = input()\n",
        "banano = {}"
      ],
      "metadata": {
        "id": "sX9XoJZJplxk"
      },
      "execution_count": null,
      "outputs": []
    }
  ]
}