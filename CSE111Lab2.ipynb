{
  "nbformat": 4,
  "nbformat_minor": 0,
  "metadata": {
    "colab": {
      "provenance": [],
      "authorship_tag": "ABX9TyMbkT5scmAnNpZ0gdDyDTyw",
      "include_colab_link": true
    },
    "kernelspec": {
      "name": "python3",
      "display_name": "Python 3"
    },
    "language_info": {
      "name": "python"
    }
  },
  "cells": [
    {
      "cell_type": "markdown",
      "metadata": {
        "id": "view-in-github",
        "colab_type": "text"
      },
      "source": [
        "<a href=\"https://colab.research.google.com/github/Abdullah1Jubair/CSE111/blob/main/CSE111Lab2.ipynb\" target=\"_parent\"><img src=\"https://colab.research.google.com/assets/colab-badge.svg\" alt=\"Open In Colab\"/></a>"
      ]
    },
    {
      "cell_type": "code",
      "execution_count": null,
      "metadata": {
        "colab": {
          "base_uri": "https://localhost:8080/"
        },
        "id": "bJgBFfMe6ALk",
        "outputId": "3912cc59-eae9-425b-f904-411f6b804ad2"
      },
      "outputs": [
        {
          "output_type": "stream",
          "name": "stdout",
          "text": [
            "ucchota bolo: 180\n",
            "Ozon bolo : 90\n",
            "Score is 27.778.  You are Overweight\n"
          ]
        }
      ],
      "source": [
        "#Task 1\n",
        "def bmi(height, weight):\n",
        "  height_cm = height/100\n",
        "  bmi = weight/(height_cm**2)\n",
        "  print(f\"Score is {round(bmi,3)}\",end=\" \")\n",
        "  if bmi<18.5:\n",
        "    return \"Underweight\"\n",
        "  elif 18.5<=bmi<=24.9:\n",
        "    return \"Normal\"\n",
        "  elif 25<=bmi<=30:\n",
        "     return \"Overweight\"\n",
        "  else:\n",
        "    return \"Obese\"\n",
        "\n",
        "height = int(input(\"ucchota bolo: \"))\n",
        "weight= int(input(\"Ozon bolo : \"))\n",
        "\n",
        "joma = bmi(height,weight)\n",
        "print(f\" You are {joma}\")"
      ]
    },
    {
      "cell_type": "code",
      "source": [
        "#Task 2\n",
        "def price(name,location=\"Mohakhali\"):\n",
        "  cost = 0\n",
        "  khoroch = 0\n",
        "  if name == \"BBQ Chicken Cheese Burger\":\n",
        "    cost = 250 + 250*(8/100)\n",
        "  elif name == \"Beef Burger\":\n",
        "    cost = 170 + 170*(8/100)\n",
        "  elif name == \"Naga Drums\":\n",
        "    cost = 200 + 200*(8/100)\n",
        "\n",
        "  if location ==\"Mohakhali\":\n",
        "    khoroch = cost + 40\n",
        "    return khoroch\n",
        "  else:\n",
        "    khoroch = cost + 60\n",
        "    return khoroch\n",
        "\n",
        "joma =price(\"Beef Burger\")\n",
        "print(joma)"
      ],
      "metadata": {
        "colab": {
          "base_uri": "https://localhost:8080/"
        },
        "id": "2D8LAwYZEXVa",
        "outputId": "7d42ac3b-add7-44ca-bfea-4a3d455155eb"
      },
      "execution_count": null,
      "outputs": [
        {
          "output_type": "stream",
          "name": "stdout",
          "text": [
            "223.6\n"
          ]
        }
      ]
    },
    {
      "cell_type": "code",
      "source": [
        "#Task 3\n",
        "def replace_domain(email,new,old=''):\n",
        "  new_str=\"\"\n",
        "  if new in email:\n",
        "    return email\n",
        "  elif old in email:\n",
        "    for i in range(len(email)):\n",
        "      if email[i]==\"@\":\n",
        "        break\n",
        "      else:\n",
        "        new_str=new_str+email[i]\n",
        "    new_str=new_str+\"@\"+new\n",
        "    return (new_str)\n",
        "email=input(\"Please enter email: \")\n",
        "new=input(\"Please enter new domain: \")\n",
        "old=input(\"Please enter old domain: \")\n",
        "notun=replace_domain(email,new,old)\n",
        "print(notun)"
      ],
      "metadata": {
        "colab": {
          "base_uri": "https://localhost:8080/"
        },
        "id": "4NFVcBuGJkRL",
        "outputId": "0357a2a1-4203-4711-c3f7-627db8272578"
      },
      "execution_count": null,
      "outputs": [
        {
          "output_type": "stream",
          "name": "stdout",
          "text": [
            "Please enter email: alice@kaaj.com\n",
            "Please enter new domain: sheba.xyz\n",
            "Please enter old domain: kaaj.com\n",
            "alice@sheba.xyz\n"
          ]
        }
      ]
    },
    {
      "cell_type": "code",
      "source": [
        "#task 5\n",
        "bochor = int(input(\"sonkha daw: \"))\n",
        "year = bochor// 365\n",
        "remaining = bochor%365\n",
        "month = remaining//30\n",
        "dinbaki = remaining%30\n",
        "\n",
        "day = dinbaki\n",
        "print(f\"{year} years {month} months and {dinbaki} days\")\n"
      ],
      "metadata": {
        "colab": {
          "base_uri": "https://localhost:8080/"
        },
        "id": "AGTvcscLJ4sC",
        "outputId": "f0e61922-79b4-45bd-8e2e-3ebb9a5f019b"
      },
      "execution_count": null,
      "outputs": [
        {
          "output_type": "stream",
          "name": "stdout",
          "text": [
            "sonkha daw: 4270\n",
            "11 years 8 months and 15 days\n"
          ]
        }
      ]
    },
    {
      "cell_type": "code",
      "source": [
        "# Neymar = 1000, Dembele = 600, Reus = 500, Bale = 1000\n",
        "# {\"neymar\":1000, \"Dembele\":600, \"Reus\": 500, \"Bale\":1000 }\n",
        "user = input().split(\", \")\n",
        "print(user)\n",
        "faka = {}\n",
        "for i in range(len(user)):\n",
        "    temp = user[i].split(\" = \")\n",
        "    if int(temp[1]) in faka:\n",
        "         faka[int(temp[1])].append(temp[0])\n",
        "    else :\n",
        "\n",
        "        faka[int(temp[1])] = [temp[0]]\n",
        "\n",
        "print(faka)\n",
        "\n",
        "\n",
        "\n"
      ],
      "metadata": {
        "colab": {
          "base_uri": "https://localhost:8080/"
        },
        "id": "-o3kogtwyjB7",
        "outputId": "034a2b13-1d67-4585-830a-9af83ef1eb3b"
      },
      "execution_count": null,
      "outputs": [
        {
          "output_type": "stream",
          "name": "stdout",
          "text": [
            "Neymar = 1000, Dembele = 600, Reus = 500, Bale = 1000\n",
            "['Neymar = 1000', 'Dembele = 600', 'Reus = 500', 'Bale = 1000']\n",
            "{1000: ['Neymar', 'Bale'], 600: ['Dembele'], 500: ['Reus']}\n"
          ]
        }
      ]
    },
    {
      "cell_type": "code",
      "source": [
        "\n",
        "def hospital_fee(**kwargs):\n",
        "    dct = {}\n",
        "    dewa_ase = kwargs\n",
        "    for i in dewa_ase:\n",
        "\n",
        "        if i in dct:\n",
        "            dct[i].append(dewa_ase[i])\n",
        "        else:\n",
        "             dct[i] = [dewa_ase[i]]\n",
        "\n",
        "    print(dct)\n",
        "\n",
        "hospital_fee(Neymar = 1000, Dembele = 600, Reus = 500, Bale = 1000)"
      ],
      "metadata": {
        "colab": {
          "base_uri": "https://localhost:8080/"
        },
        "id": "0lHXg2T-Cscb",
        "outputId": "bbe34699-f1b5-4e44-ae1b-a0e2590d68d7"
      },
      "execution_count": null,
      "outputs": [
        {
          "output_type": "stream",
          "name": "stdout",
          "text": [
            "1000\n",
            "600\n",
            "500\n",
            "1000\n",
            "{'Neymar': [1000], 'Dembele': [600], 'Reus': [500], 'Bale': [1000]}\n"
          ]
        }
      ]
    },
    {
      "cell_type": "code",
      "source": [
        "#Home task 1\n",
        "def hospital_fee(**kwargs):\n",
        "    dct = {}\n",
        "    max_amount = 0\n",
        "    for i in kwargs:\n",
        "\n",
        "        if kwargs[i] in dct:\n",
        "            dct[kwargs[i]].append(i)\n",
        "        else:\n",
        "             dct[kwargs[i]] = [i]\n",
        "\n",
        "    for i in dct:\n",
        "        if i >max_amount:\n",
        "            max_amount = i\n",
        "            max_payer = dct[i]\n",
        "    # bc = \"\\n\"\n",
        "    print(f'Highest fee was {max_amount} tk which was paid by {(\", \").join(max_payer)}.')\n",
        "    return max_amount , max_payer\n",
        "\n",
        "max_amount, max_payer  = hospital_fee(Neymar = 1000, Dembele = 600, Reus = 500, Bale = 1000)\n"
      ],
      "metadata": {
        "colab": {
          "base_uri": "https://localhost:8080/"
        },
        "id": "5oHwAXIZEglI",
        "outputId": "a7ecce1a-6705-43b1-dbc0-40c01505e491"
      },
      "execution_count": null,
      "outputs": [
        {
          "output_type": "stream",
          "name": "stdout",
          "text": [
            "Highest fee was 1000 tk which was paid by Neymar, Bale.\n"
          ]
        }
      ]
    },
    {
      "cell_type": "code",
      "source": [
        "#Home task 3\n",
        "def assign_students_to_sections(sec,*names):\n",
        "    faka = {}\n",
        "    for i in sec:\n",
        "        faka[i]= []\n",
        "\n",
        "    for name in names:\n",
        "        temp = 0\n",
        "        for i in name:\n",
        "            temp += ord(i)\n",
        "        faka[sec[temp%len(sec)]].append(name)\n",
        "\n",
        "    return faka\n",
        "\n",
        "assign_students_to_sections('ABCDE', 'Alice', 'Bob', 'Charlie', 'David', 'Eve', 'Frank', 'Grace')"
      ],
      "metadata": {
        "colab": {
          "base_uri": "https://localhost:8080/"
        },
        "id": "xrg7LhaYLDKi",
        "outputId": "ae49f252-e340-42cc-d826-6468fd405707"
      },
      "execution_count": null,
      "outputs": [
        {
          "output_type": "execute_result",
          "data": {
            "text/plain": [
              "{'A': ['Bob'],\n",
              " 'B': ['Charlie'],\n",
              " 'C': ['Grace'],\n",
              " 'D': ['Alice', 'David', 'Eve', 'Frank'],\n",
              " 'E': []}"
            ]
          },
          "metadata": {},
          "execution_count": 20
        }
      ]
    },
    {
      "cell_type": "code",
      "source": [
        "#Home task 4\n",
        "def username_generator(prothom,sesh,id,moddho=\"\"):\n",
        "    berhobe = ''\n",
        "\n",
        "    for i in range(3):\n",
        "        if  97<=ord(prothom[i])<=122:\n",
        "            berhobe += chr(ord(prothom[i])-32)\n",
        "        else:\n",
        "            berhobe+= prothom[i]\n",
        "    if moddho == \"\":\n",
        "        pass\n",
        "    else:\n",
        "        berhobe += moddho\n",
        "\n",
        "    for i in range(len(sesh)-3,len(sesh)):\n",
        "        if 65<=ord(sesh[i])<=90:\n",
        "            berhobe += chr(ord(sesh[i])+32)\n",
        "        else:\n",
        "            berhobe+= sesh[i]\n",
        "\n",
        "    arekta = str(id)\n",
        "    berhobe+= \"_\" +arekta[len(arekta)-4:len(arekta)]\n",
        "    return berhobe\n",
        "\n",
        "first_name, middle_name, last_name, student_id= input (\"First Name:\"), input(\"Middle Name:\"), input (\"Last Name:\"), int (input (\"Student ID:\"))\n",
        "print(username_generator (first_name, last_name, student_id))\n",
        "print(username_generator(first_name, last_name, student_id, middle_name))"
      ],
      "metadata": {
        "colab": {
          "base_uri": "https://localhost:8080/"
        },
        "id": "AlWT8aS18DJc",
        "outputId": "1043ad7b-20c0-44aa-8c1d-4e4f8854a8c7"
      },
      "execution_count": null,
      "outputs": [
        {
          "output_type": "stream",
          "name": "stdout",
          "text": [
            "First Name:Khonik\n",
            "Middle Name:er\n",
            "Last Name:chele\n",
            "Student ID:23456645\n",
            "KHOerele_6645\n"
          ]
        }
      ]
    },
    {
      "cell_type": "code",
      "source": [
        "#Task 5\n",
        "def key_generator(*args):\n",
        "    faka = []\n",
        "    for arg in args:\n",
        "        temp = \"\"\n",
        "        na = arg[::-1]\n",
        "        for i in arg:\n",
        "            if i == arg[0] or i == arg[-1]:\n",
        "\n",
        "                if ord(\"A\")<= ord(i) <=ord(\"Z\"):\n",
        "                    temp+= chr(ord(i)+32)\n",
        "\n",
        "                else:\n",
        "                    temp+= chr(ord(i)-32)\n",
        "            else:\n",
        "                temp+= str(ord(na[arg.index(i)]))\n",
        "        faka.append(temp)\n",
        "    print(f\"Encrypted Keys: {faka}\")\n",
        "\n",
        "key_list = key_generator (\"Alex\",\"Bob\", \"Trudy\")"
      ],
      "metadata": {
        "colab": {
          "base_uri": "https://localhost:8080/"
        },
        "id": "XwpYdWxpEhx1",
        "outputId": "757d0a2b-f2c8-49eb-ccf4-0adf032f2c0c"
      },
      "execution_count": null,
      "outputs": [
        {
          "output_type": "stream",
          "name": "stdout",
          "text": [
            "Encrypted Keys: ['a101108X', 'b111B', 't100117114Y']\n"
          ]
        }
      ]
    },
    {
      "cell_type": "code",
      "source": [
        "#Task 2\n",
        "def is_james_bond(nums):\n",
        "\n",
        "    for i in range(len(nums)):\n",
        "        if nums[i] == 0:\n",
        "            for j in range(i+1,len(nums)):\n",
        "                if nums[j] == 0:\n",
        "                    for k in range(j+1,len(nums)):\n",
        "                        if nums[k] == 7:\n",
        "                            return True\n",
        "\n",
        "    return False\n",
        "\n",
        "is_james_bond( [1, 7, 2, 0, 4, 5, 0] )\n"
      ],
      "metadata": {
        "colab": {
          "base_uri": "https://localhost:8080/"
        },
        "id": "EXmW53KeAGPM",
        "outputId": "6e8e1b84-0026-4b7a-a850-a2a6527602c8"
      },
      "execution_count": null,
      "outputs": [
        {
          "output_type": "execute_result",
          "data": {
            "text/plain": [
              "False"
            ]
          },
          "metadata": {},
          "execution_count": 43
        }
      ]
    },
    {
      "cell_type": "code",
      "source": [
        "#Task 6\n",
        "import random\n",
        "def playRockPaperScissor(rounds):\n",
        "    user_count = 0\n",
        "    computer_count = 0\n",
        "    for i in range(rounds):\n",
        "        user = input(\"shoot: \")\n",
        "        computer=['rock', 'paper', 'scissor']\n",
        "        computer_choice = random.choice(computer)\n",
        "        print(f\"Computer: {computer_choice}\")\n",
        "        if user == \"rock\" and computer_choice == \"paper\" or user == \"paper\" and computer_choice == \"scissor\" or user == \"scissor\" and computer_choice == \"rock\":\n",
        "            computer_count += 1\n",
        "        elif computer_choice == \"rock\" and user == \"paper\" or computer_choice == \"paper\" and user == \"scissor\" or computer_choice == \"scissor\" and user == \"rock\":\n",
        "            user_count += 1\n",
        "        else:\n",
        "            continue\n",
        "\n",
        "    print(f\"Your Score: {user_count}\\nComputer's Score: {computer_count}\")\n",
        "    if user_count > computer_count:\n",
        "        return(\"You have won the game!\")\n",
        "    elif user_count < computer_count:\n",
        "        return(\"Computer has won the game!\")\n",
        "    else:\n",
        "        return(\"Tie\")\n",
        "\n",
        "user = int(input(\"Choose: \"))\n",
        "print(playRockPaperScissor(user))"
      ],
      "metadata": {
        "colab": {
          "base_uri": "https://localhost:8080/"
        },
        "id": "ELykJgSEdFaA",
        "outputId": "2aa7bb39-3cde-4cef-e2ff-d5b3eb5a6e90"
      },
      "execution_count": null,
      "outputs": [
        {
          "output_type": "stream",
          "name": "stdout",
          "text": [
            "Choose: 3\n",
            "rock\n",
            "Computer: scissor\n",
            "paper\n",
            "Computer: paper\n",
            "scissor\n",
            "Computer: rock\n",
            "Your Score: 1\n",
            "Computer's Score: 1\n",
            "Tie\n"
          ]
        }
      ]
    },
    {
      "cell_type": "code",
      "source": [],
      "metadata": {
        "id": "67Ir0ek0sm--"
      },
      "execution_count": null,
      "outputs": []
    }
  ]
}