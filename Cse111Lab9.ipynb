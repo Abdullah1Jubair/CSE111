{
  "nbformat": 4,
  "nbformat_minor": 0,
  "metadata": {
    "colab": {
      "provenance": [],
      "authorship_tag": "ABX9TyNk3AluF/Ov5xR/FBpTc6NF",
      "include_colab_link": true
    },
    "kernelspec": {
      "name": "python3",
      "display_name": "Python 3"
    },
    "language_info": {
      "name": "python"
    }
  },
  "cells": [
    {
      "cell_type": "markdown",
      "metadata": {
        "id": "view-in-github",
        "colab_type": "text"
      },
      "source": [
        "<a href=\"https://colab.research.google.com/github/Abdullah1Jubair/CSE111/blob/main/Cse111Lab9.ipynb\" target=\"_parent\"><img src=\"https://colab.research.google.com/assets/colab-badge.svg\" alt=\"Open In Colab\"/></a>"
      ]
    },
    {
      "cell_type": "markdown",
      "source": [
        "### Task 1\n",
        "Task 1\n",
        "We know that Nike is opening their official outlets in Bangladesh. So let's construct a NikeBangladesh class so that they can keep track of their inventory and sales here,\n",
        "\n",
        "Hint:\n",
        "productSold()/restockProducts(): takes in a dictionary with product name and quantity, and updates the instance and class variables accordingly"
      ],
      "metadata": {
        "id": "lrJjIsFIn0sS"
      }
    },
    {
      "cell_type": "code",
      "source": [
        "#Lab 9 task 1\n",
        "class NikeBangladesh:\n",
        "  branches = []\n",
        "  stock = {'Air Jordan': 0, 'Cortez': 0, 'Zoom Kobe': 0}\n",
        "  sold = 0\n",
        "  def __init__(self, name):\n",
        "    self.name = name\n",
        "\n",
        "    NikeBangladesh.branches.append(self.name)\n",
        "\n",
        "  def details(self):\n",
        "    print(f\"Nike {self.name} outlet:\")\n",
        "    print(\"Products Currently Stocked: \")\n",
        "    print(f\"{NikeBangladesh.stock}\")\n",
        "    print(f\"Sold: {NikeBangladesh.sold}\")\n",
        "\n",
        "  def restockProducts(self, newstock):\n",
        "    for key, value in newstock.items():\n",
        "      NikeBangladesh.stock[key] = NikeBangladesh.stock.get(key) + value\n",
        "\n",
        "  def productSold(self, sold):\n",
        "    for key, value in sold.items():\n",
        "      NikeBangladesh.stock[key] = NikeBangladesh.stock.get(key) - value\n",
        "      NikeBangladesh.sold += value\n",
        "\n",
        "  @classmethod\n",
        "  def status(cls):\n",
        "    print(\"Nike Bangladesh Status:\")\n",
        "    print(f\"Branches Opened:  {cls.branches}\")\n",
        "    print(f\"Currently Stocked\")\n",
        "    print(f\"{cls.stock}\")\n",
        "    print(f\"Sold: {cls.sold}\")\n",
        "\n",
        "print(\"xxxxxxxxxxxxxx1xxxxxxxxxxxxxxxx\")\n",
        "NikeBangladesh.status()\n",
        "dhaka = NikeBangladesh(\"Dhaka Banani\")\n",
        "chittagong = NikeBangladesh(\"Chittagong GEC\")\n",
        "print(\"xxxxxxxxxxxxxx2xxxxxxxxxxxxxxxx\")\n",
        "dhaka.details()\n",
        "print(\"xxxxxxxxxxxxxx3xxxxxxxxxxxxxxxx\")\n",
        "chittagong.details()\n",
        "print(\"xxxxxxxxxxxxxx4xxxxxxxxxxxxxxxx\")\n",
        "dhaka.restockProducts(\n",
        "{\"Air Jordan\":1200,\"Cortez\":200,\"Zoom Kobe\":200})\n",
        "chittagong.restockProducts(\n",
        "{\"Air Jordan\":1000,\"Cortez\":250,\"Zoom Kobe\":100})\n",
        "print(\"xxxxxxxxxxxxxx5xxxxxxxxxxxxxxxx\")\n",
        "NikeBangladesh.status()\n",
        "print(\"xxxxxxxxxxxxxx6xxxxxxxxxxxxxxxx\")\n",
        "dhaka.productSold({\"Air Jordan\":760,\"Cortez\":90})\n",
        "chittagong.productSold({\"Air Jordan\":520,\"Zoom Kobe\":70})\n",
        "print(\"xxxxxxxxxxxxxx7xxxxxxxxxxxxxxxx\")\n",
        "NikeBangladesh.status()"
      ],
      "metadata": {
        "colab": {
          "base_uri": "https://localhost:8080/"
        },
        "id": "0Cd4CPq1ojf0",
        "outputId": "db0a4272-a14c-4edd-a0be-d6f9aea6369e"
      },
      "execution_count": 1,
      "outputs": [
        {
          "output_type": "stream",
          "name": "stdout",
          "text": [
            "xxxxxxxxxxxxxx1xxxxxxxxxxxxxxxx\n",
            "Nike Bangladesh Status:\n",
            "Branches Opened:  []\n",
            "Currently Stocked\n",
            "{'Air Jordan': 0, 'Cortez': 0, 'Zoom Kobe': 0}\n",
            "Sold: 0\n",
            "xxxxxxxxxxxxxx2xxxxxxxxxxxxxxxx\n",
            "Nike Dhaka Banani outlet:\n",
            "Products Currently Stocked: \n",
            "{'Air Jordan': 0, 'Cortez': 0, 'Zoom Kobe': 0}\n",
            "Sold: 0\n",
            "xxxxxxxxxxxxxx3xxxxxxxxxxxxxxxx\n",
            "Nike Chittagong GEC outlet:\n",
            "Products Currently Stocked: \n",
            "{'Air Jordan': 0, 'Cortez': 0, 'Zoom Kobe': 0}\n",
            "Sold: 0\n",
            "xxxxxxxxxxxxxx4xxxxxxxxxxxxxxxx\n",
            "xxxxxxxxxxxxxx5xxxxxxxxxxxxxxxx\n",
            "Nike Bangladesh Status:\n",
            "Branches Opened:  ['Dhaka Banani', 'Chittagong GEC']\n",
            "Currently Stocked\n",
            "{'Air Jordan': 2200, 'Cortez': 450, 'Zoom Kobe': 300}\n",
            "Sold: 0\n",
            "xxxxxxxxxxxxxx6xxxxxxxxxxxxxxxx\n",
            "xxxxxxxxxxxxxx7xxxxxxxxxxxxxxxx\n",
            "Nike Bangladesh Status:\n",
            "Branches Opened:  ['Dhaka Banani', 'Chittagong GEC']\n",
            "Currently Stocked\n",
            "{'Air Jordan': 920, 'Cortez': 360, 'Zoom Kobe': 230}\n",
            "Sold: 1440\n"
          ]
        }
      ]
    },
    {
      "cell_type": "code",
      "source": [],
      "metadata": {
        "id": "lgBoHIofotvq"
      },
      "execution_count": null,
      "outputs": []
    },
    {
      "cell_type": "markdown",
      "source": [
        "### Task 2\n",
        "Write the Player class so that the given code provides the expected output."
      ],
      "metadata": {
        "id": "tKrhZgaWn7P2"
      }
    },
    {
      "cell_type": "code",
      "source": [
        "#Lab 9 task 2\n",
        "class Player:\n",
        "    total = 0\n",
        "    player = []\n",
        "    def __init__(self,name=\"\",jersey=10,country=\"\"):\n",
        "        self.name = name\n",
        "        self.jersey= jersey\n",
        "        self.country = country\n",
        "        Player.total += 1\n",
        "        self.team = \"\"\n",
        "        if name != \"\":\n",
        "            Player.player.append(name)\n",
        "    def set_name(self,n):\n",
        "        self.name = n\n",
        "        Player.player.append(n)\n",
        "    def set_team(self,team):\n",
        "        self.team = team\n",
        "    def set_number(self,number):\n",
        "        self.jersey = number\n",
        "    @classmethod\n",
        "    def info(cls):\n",
        "        print(f\"Total number of players:{cls.total}\")\n",
        "        print(\"Players enlisted so far:\", \", \".join(cls.player))\n",
        "\n",
        "\n",
        "    def player_detail(self):\n",
        "        return f\"Player name:{self.name}\\nJersey Number:{self.jersey}\\nCountry:{self.team}\"\n",
        "\n",
        "\n",
        "\n",
        "\n",
        "print(\"Total number of players:\", Player.total)\n",
        "print(\"---------------------------\")\n",
        "p1 = Player()\n",
        "p1.set_name(\"Neymar\")\n",
        "p1.set_team(\"Brazil\")\n",
        "print(p1.player_detail())\n",
        "print('========================')\n",
        "Player.info()\n",
        "print(\"---------------------------\")\n",
        "p2 = Player(\"Ronaldo\")\n",
        "p2.set_number(7)\n",
        "p2.set_team(\"Portugal\")\n",
        "print(p2.player_detail())\n",
        "print('========================')\n",
        "Player.info()\n",
        "print(\"---------------------------\")\n",
        "p3 = Player(\"Messi\")\n",
        "p3.set_team(\"Argentina\")\n",
        "print(p3.player_detail())\n",
        "print('========================')\n",
        "Player.info()\n",
        "print(\"---------------------------\")\n",
        "p4 = Player(\"Mbappe\", 10, \"France\")\n",
        "print(p4.player_detail())\n",
        "print('========================')\n",
        "Player.info()\n"
      ],
      "metadata": {
        "colab": {
          "base_uri": "https://localhost:8080/"
        },
        "id": "_glQho59VV6V",
        "outputId": "b0ccd751-2df0-4449-a1d4-a31036621935"
      },
      "execution_count": 3,
      "outputs": [
        {
          "output_type": "stream",
          "name": "stdout",
          "text": [
            "Total number of players: 0\n",
            "---------------------------\n",
            "Player name:Neymar\n",
            "Jersey Number:10\n",
            "Country:Brazil\n",
            "========================\n",
            "Total number of players:1\n",
            "Players enlisted so far: Neymar\n",
            "---------------------------\n",
            "Player name:Ronaldo\n",
            "Jersey Number:7\n",
            "Country:Portugal\n",
            "========================\n",
            "Total number of players:2\n",
            "Players enlisted so far: Neymar, Ronaldo\n",
            "---------------------------\n",
            "Player name:Messi\n",
            "Jersey Number:10\n",
            "Country:Argentina\n",
            "========================\n",
            "Total number of players:3\n",
            "Players enlisted so far: Neymar, Ronaldo, Messi\n",
            "---------------------------\n",
            "Player name:Mbappe\n",
            "Jersey Number:10\n",
            "Country:\n",
            "========================\n",
            "Total number of players:4\n",
            "Players enlisted so far: Neymar, Ronaldo, Messi, Mbappe\n"
          ]
        }
      ]
    },
    {
      "cell_type": "markdown",
      "source": [
        "### Task 3\n",
        "Write the SultansDine class so that the given code provides the expected output"
      ],
      "metadata": {
        "id": "d3Kaz8cBoAc4"
      }
    },
    {
      "cell_type": "code",
      "source": [
        "#Task 3 Lab 9\n",
        "class SultansDine:\n",
        "    total_sell = 0\n",
        "    branch_count = 0\n",
        "    branch_list = []\n",
        "    def __init__(self, branch_name):\n",
        "        self.branch_name = branch_name\n",
        "        self.branch_sell = 0\n",
        "        SultansDine.branch_count += 1\n",
        "\n",
        "    def sellQuantity(self, quantity):\n",
        "        if quantity < 10:\n",
        "            self.branch_sell = quantity * 300\n",
        "        elif quantity < 20:\n",
        "            self.branch_sell = quantity * 350\n",
        "        else:\n",
        "            self.branch_sell = quantity * 400\n",
        "        SultansDine.total_sell += self.branch_sell\n",
        "        SultansDine.branch_list.append((self.branch_name, self.branch_sell))\n",
        "\n",
        "    def branchInformation(self):\n",
        "        print(f\"Branch Name: {self.branch_name}\")\n",
        "        print(f\"Branch Sell: {self.branch_sell} Taka\")\n",
        "\n",
        "    @classmethod\n",
        "    def details(cls):\n",
        "        print(f\"Total Number of branch(s): {cls.branch_count}\")\n",
        "        print(f\"Total Sell: {cls.total_sell} Taka\")\n",
        "        for branch in cls.branch_list:\n",
        "          percentage = (branch[1] / cls.total_sell) * 100\n",
        "          print(f\"Branch Name: {branch[0]}, Branch Sell: {branch[1]} Taka\")\n",
        "          print(f\"Branch consists of total sell's: {percentage:.2f}%\")\n",
        "\n",
        "\n",
        "\n",
        "SultansDine.details()\n",
        "print('########################')\n",
        "dhanmondi = SultansDine('Dhanmondi')\n",
        "dhanmondi.sellQuantity(25)\n",
        "dhanmondi.branchInformation()\n",
        "print('-----------------------------------------')\n",
        "SultansDine.details()\n",
        "\n",
        "print('========================')\n",
        "\n",
        "baily_road = SultansDine('Baily Road')\n",
        "baily_road.sellQuantity(15)\n",
        "baily_road.branchInformation()\n",
        "print('-----------------------------------------')\n",
        "SultansDine.details()\n",
        "\n",
        "print('========================')\n",
        "\n",
        "gulshan = SultansDine('Gulshan')\n",
        "gulshan.sellQuantity(9)\n",
        "gulshan.branchInformation()\n",
        "print('-----------------------------------------')\n",
        "SultansDine.details()\n"
      ],
      "metadata": {
        "id": "9P9GZ-SChL3B",
        "colab": {
          "base_uri": "https://localhost:8080/"
        },
        "outputId": "c518916c-e5f5-4541-ce52-5e1b5495b377"
      },
      "execution_count": 2,
      "outputs": [
        {
          "output_type": "stream",
          "name": "stdout",
          "text": [
            "Total Number of branch(s): 0\n",
            "Total Sell: 0 Taka\n",
            "########################\n",
            "Branch Name: Dhanmondi\n",
            "Branch Sell: 10000 Taka\n",
            "-----------------------------------------\n",
            "Total Number of branch(s): 1\n",
            "Total Sell: 10000 Taka\n",
            "Branch Name: Dhanmondi, Branch Sell: 10000 Taka\n",
            "Branch consists of total sell's: 100.00%\n",
            "========================\n",
            "Branch Name: Baily Road\n",
            "Branch Sell: 5250 Taka\n",
            "-----------------------------------------\n",
            "Total Number of branch(s): 2\n",
            "Total Sell: 15250 Taka\n",
            "Branch Name: Dhanmondi, Branch Sell: 10000 Taka\n",
            "Branch consists of total sell's: 65.57%\n",
            "Branch Name: Baily Road, Branch Sell: 5250 Taka\n",
            "Branch consists of total sell's: 34.43%\n",
            "========================\n",
            "Branch Name: Gulshan\n",
            "Branch Sell: 2700 Taka\n",
            "-----------------------------------------\n",
            "Total Number of branch(s): 3\n",
            "Total Sell: 17950 Taka\n",
            "Branch Name: Dhanmondi, Branch Sell: 10000 Taka\n",
            "Branch consists of total sell's: 55.71%\n",
            "Branch Name: Baily Road, Branch Sell: 5250 Taka\n",
            "Branch consists of total sell's: 29.25%\n",
            "Branch Name: Gulshan, Branch Sell: 2700 Taka\n",
            "Branch consists of total sell's: 15.04%\n"
          ]
        }
      ]
    }
  ]
}