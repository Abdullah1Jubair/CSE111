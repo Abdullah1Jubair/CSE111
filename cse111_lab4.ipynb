{
  "nbformat": 4,
  "nbformat_minor": 0,
  "metadata": {
    "colab": {
      "provenance": [],
      "authorship_tag": "ABX9TyOtJl2mjDbzs25qQLrnjwhV",
      "include_colab_link": true
    },
    "kernelspec": {
      "name": "python3",
      "display_name": "Python 3"
    },
    "language_info": {
      "name": "python"
    }
  },
  "cells": [
    {
      "cell_type": "markdown",
      "metadata": {
        "id": "view-in-github",
        "colab_type": "text"
      },
      "source": [
        "<a href=\"https://colab.research.google.com/github/Abdullah1Jubair/CSE111/blob/main/cse111_lab4.ipynb\" target=\"_parent\"><img src=\"https://colab.research.google.com/assets/colab-badge.svg\" alt=\"Open In Colab\"/></a>"
      ]
    },
    {
      "cell_type": "markdown",
      "source": [
        "### Task 1\n",
        "Design the Customer class with the necessary properties so that the following output is produced.\n",
        "[Hint:\n",
        "If the visitor’s age is greater than 10, then the ticket price is 100 taka. Otherwise, 50 taka.\n",
        "A customer can’t buy more than 3 tickets.]\n"
      ],
      "metadata": {
        "id": "ZJ9K9N_UumuK"
      }
    },
    {
      "cell_type": "code",
      "execution_count": null,
      "metadata": {
        "colab": {
          "base_uri": "https://localhost:8080/"
        },
        "id": "Tp7dmYPe9pHl",
        "outputId": "a96b0293-194a-46e9-c047-2bfdd1d177c8"
      },
      "outputs": [
        {
          "output_type": "stream",
          "name": "stdout",
          "text": [
            "1-------------------------\n",
            "Welcome to ABC Memorial Park\n",
            "2-------------------------\n",
            "Successfully purchased a ticket for Bob!\n",
            "Successfully purchased a ticket for Henry!\n",
            "Successfully purchased a ticket for Alexa!\n",
            "You can't buy more than 3 tickets\n",
            "3-------------------------\n",
            "Amount of tickets: 3\n",
            "Total price: 250 Taka\n",
            "4-------------------------\n",
            "Welcome to ABC Memorial Park\n",
            "5-------------------------\n",
            "Successfully purchased a ticket for Harry!\n",
            "Successfully purchased a ticket for Tomas!\n",
            "6-------------------------\n",
            "Amount of tickets: 2\n",
            "Total price: 200 Taka\n"
          ]
        }
      ],
      "source": [
        "#Home Task 1\n",
        "class Customer:\n",
        "    def __init__(self):\n",
        "        print(\"Welcome to ABC Memorial Park\")\n",
        "        self.count = 0\n",
        "        self.price = 0\n",
        "    def buyTicket(self,visitor,age):\n",
        "\n",
        "        if age>10 and self.count< 3:\n",
        "                self.price += 100\n",
        "                self.count += 1\n",
        "                print(f\"Successfully purchased a ticket for {visitor}!\")\n",
        "        elif age<10 and self.count< 3:\n",
        "                self.price += 50\n",
        "                self.count += 1\n",
        "                print(f\"Successfully purchased a ticket for {visitor}!\")\n",
        "        else:\n",
        "                print(f\"You can't buy more than 3 tickets\")\n",
        "\n",
        "    def showDetails(self):\n",
        "        print(f\"Amount of tickets: {self.count}\")\n",
        "        print(f\"Total price: {self.price} Taka\")\n",
        "\n",
        "#Driver Code\n",
        "print('1-------------------------')\n",
        "customer1 = Customer()\n",
        "print('2-------------------------')\n",
        "customer1.buyTicket('Bob', 23)\n",
        "customer1.buyTicket('Henry', 7)\n",
        "customer1.buyTicket('Alexa', 30)\n",
        "customer1.buyTicket('Jonas', 43)\n",
        "print('3-------------------------')\n",
        "customer1.showDetails()\n",
        "print('4-------------------------')\n",
        "customer2 = Customer()\n",
        "print('5-------------------------')\n",
        "customer2.buyTicket('Harry', 60)\n",
        "customer2.buyTicket('Tomas', 28)\n",
        "print('6-------------------------')\n",
        "customer2.showDetails()\n"
      ]
    },
    {
      "cell_type": "markdown",
      "source": [
        "### Task2\n",
        "Create a class named Panda and also write the constructor.\n",
        "Access the instance attributes and print them in the given format.\n",
        "Call instance methods to keep track of their daily hours of sleep.\n",
        "Suppose consulting with other panda nannies you have set some criteria based on which you will make their diet plans. The criteria are:\n",
        "\n",
        "    1 Mixed Veggies for pandas having 3 to 5 hours (included) of sleep daily.\n",
        "    2 Eggplant & Tofu for pandas having 6 to 8 hours (included) of sleep daily.\n",
        "    3 Broccoli Chicken for pandas having 9 to 11 hours (included) of sleep daily.\n",
        "    4 Lastly for all other arguments, then just give it bamboo leaves.\n",
        "Now handle this problem modifying the method designed to keep track of their daily hours of sleep and determine diet plan.\n"
      ],
      "metadata": {
        "id": "4W33xQO8u_78"
      }
    },
    {
      "cell_type": "code",
      "source": [
        "#Task 2\n",
        "class Panda:\n",
        "    def __init__(self,name,sex,age):\n",
        "        self.name = name\n",
        "        self.gender = sex\n",
        "        self.age = age\n",
        "\n",
        "    def sleep(self,hours):\n",
        "        if 3<=hours<=5 :\n",
        "            return f\"{self.name} sleeps {hours} hours daily and should have Mixed Veggies\"\n",
        "        elif 6<=hours<=8 :\n",
        "            return f\"{self.name} sleeps {hours} hours daily and should have Eggplant & Tofu\"\n",
        "        elif 9<=hours<=11 :\n",
        "            return f\"{self.name} sleeps {hours} hours daily and should have Broccoli Chicken\"\n",
        "        else:\n",
        "            return f\"{self.name} duration is unknown thus shouldhave only bamboo leaves\"\n",
        "\n",
        "#Driver Code\n",
        "panda1 = Panda(\"Kunfu\", \"Male\", 5)\n",
        "panda2 = Panda(\"Pan Pan\", \"Female\",3)\n",
        "panda3 = Panda(\"Ming Ming\", \"Female\",8)\n",
        "print(\"{} is a {} Panda Bear who is {} yearsold\".format(panda1.name,panda1.gender,panda1.age))\n",
        "print(\"{} is a {} Panda Bear who is {} yearsold\".format(panda2.name,panda2.gender,panda2.age))\n",
        "print(\"{} is a {} Panda Bear who is {} yearsold\".format(panda3.name,panda3.gender,panda3.age))\n",
        "print(\"===========================\")\n",
        "print(panda2.sleep(10))\n",
        "print(panda1.sleep(4))\n",
        "print(panda3.sleep(13))"
      ],
      "metadata": {
        "colab": {
          "base_uri": "https://localhost:8080/"
        },
        "id": "T0lddvzpI9bW",
        "outputId": "cd5c4d4c-d921-4141-ec6e-6247666358e6"
      },
      "execution_count": null,
      "outputs": [
        {
          "output_type": "stream",
          "name": "stdout",
          "text": [
            "Kunfu is a Male Panda Bear who is 5 yearsold\n",
            "Pan Pan is a Female Panda Bear who is 3 yearsold\n",
            "Ming Ming is a Female Panda Bear who is 8 yearsold\n",
            "===========================\n",
            "Pan Pan sleeps 10 hours daily and should have Broccoli Chicken\n",
            "Kunfu sleeps 4 hours daily and should have Mixed Veggies\n",
            "Ming Ming duration is unknown thus shouldhave only bamboo leaves\n"
          ]
        }
      ]
    },
    {
      "cell_type": "markdown",
      "source": [
        "### Task 3\n",
        "\n",
        "\n",
        "Suppose you are the CEO of \"Green Phone\". After a meeting with the R&D department and sales department, you decided to launch 3 smartphone series, ‘A’, ‘M’ and ‘U’ series. These series will get 2 years, 3 years and 4 years of software update respectively. Now, design a GreenPhone class with necessary properties so that it generates the output below for the given driver code.\n",
        "[Hint: updatePhone() method will upgrade the android version of the phone.]\n",
        "\n"
      ],
      "metadata": {
        "id": "FdGH1HXCvp5u"
      }
    },
    {
      "cell_type": "code",
      "source": [
        "#Task 3\n",
        "class GreenPhone:\n",
        "    def __init__(self,model,andrd,cam):\n",
        "        self.model = model\n",
        "        self.android = andrd\n",
        "        self.camera = cam\n",
        "    def showSpecification(self):\n",
        "        print(\"Phone Company: GreenPhone\")\n",
        "        print(f\"Model Name: {self.model}\")\n",
        "        print(f\"Android Version: {self.android}\")\n",
        "        print(f\"Number of Cameras: {self.camera}\")\n",
        "    def updatePhone(self):\n",
        "        if self.model[0] == \"A\" and self.android <= 13:\n",
        "            self.android += 1\n",
        "            print(f\"Your phone Greenphone {self.model} is upgraded to Android Version: {self.android}.\")\n",
        "        elif self.model[0] == \"U\" and self.android <= 15:\n",
        "            self.android += 1\n",
        "            print(f\"Your phone Greenphone {self.model} is upgraded to Android Version: {self.android}.\")\n",
        "        elif self.model[0] == \"M\" and self.android <= 14:\n",
        "            self.android += 1\n",
        "            print(f\"Your phone Greenphone {self.model} is upgraded to Android Version: {self.android}.\")\n",
        "        else:\n",
        "            print(f\"Your phone Greenphone {self.model} is already up to date.\")\n",
        "\n",
        "#Driver code\n",
        "print('1=======================')\n",
        "p1 = GreenPhone('A1', 12, 3)\n",
        "p2 = GreenPhone('M11', 12, 4)\n",
        "p3 = GreenPhone('U20', 12, 5)\n",
        "p1.showSpecification()\n",
        "print('2=======================')\n",
        "p2.showSpecification()\n",
        "print('3=======================')\n",
        "p1.updatePhone()\n",
        "print('4=======================')\n",
        "p1.updatePhone()\n",
        "p2.updatePhone()\n",
        "p3.updatePhone()\n",
        "print('5=======================')\n",
        "p1.updatePhone()\n",
        "p2.updatePhone()\n",
        "p3.updatePhone()\n",
        "print('6=======================')\n",
        "p2.updatePhone()\n",
        "p3.updatePhone()\n",
        "print('7=======================')\n",
        "p1.showSpecification()\n",
        "p3.showSpecification()\n"
      ],
      "metadata": {
        "colab": {
          "base_uri": "https://localhost:8080/"
        },
        "id": "x7vZdMysPUEF",
        "outputId": "c9b74899-6674-44dd-c45b-407db9bc916a"
      },
      "execution_count": null,
      "outputs": [
        {
          "output_type": "stream",
          "name": "stdout",
          "text": [
            "1=======================\n",
            "Phone Company: GreenPhone\n",
            "Model Name: A1\n",
            "Android Version: 12\n",
            "Number of Cameras: 3\n",
            "2=======================\n",
            "Phone Company: GreenPhone\n",
            "Model Name: M11\n",
            "Android Version: 12\n",
            "Number of Cameras: 4\n",
            "3=======================\n",
            "Your phone Greenphone A1 is upgraded to Android Version: 13.\n",
            "4=======================\n",
            "Your phone Greenphone A1 is upgraded to Android Version: 14.\n",
            "Your phone Greenphone M11 is upgraded to Android Version: 13.\n",
            "Your phone Greenphone U20 is upgraded to Android Version: 13.\n",
            "5=======================\n",
            "Your phone Greenphone A1 is already up to date.\n",
            "Your phone Greenphone M11 is upgraded to Android Version: 14.\n",
            "Your phone Greenphone U20 is upgraded to Android Version: 14.\n",
            "6=======================\n",
            "Your phone Greenphone M11 is upgraded to Android Version: 15.\n",
            "Your phone Greenphone U20 is upgraded to Android Version: 15.\n",
            "7=======================\n",
            "Phone Company: GreenPhone\n",
            "Model Name: A1\n",
            "Android Version: 14\n",
            "Number of Cameras: 3\n",
            "Phone Company: GreenPhone\n",
            "Model Name: U20\n",
            "Android Version: 15\n",
            "Number of Cameras: 5\n"
          ]
        }
      ]
    },
    {
      "cell_type": "markdown",
      "source": [
        "### Task 4\n",
        "Design StudentDatabase class so that the following output is produced:\n",
        "\n",
        "Calculation of GPA: GPA = Sum of (Grade Points * Credits)/ Credits attempted\n",
        "Each course a student takes is of 3 credits.\n",
        "\n",
        "For example: Wanda has taken 3 courses in Summer 2022 semester. So her CGPA will be\n",
        "\n",
        "[ (CSE111 GP × 3) + (CSE260 GP × 3) + (ENG101 GP × 3) ] / (3 courses × 3)\n",
        "[ (3.7 × 3) + (3.7 × 3) + (4.0 × 3) ] / (3 × 3) = 3.8"
      ],
      "metadata": {
        "id": "wAqKgdp6wErM"
      }
    },
    {
      "cell_type": "code",
      "source": [
        "#Task 4\n",
        "class StudentDatabase:\n",
        "    def __init__(self, name,id):\n",
        "        self.name = name\n",
        "        self.id = id\n",
        "        self.grades={}\n",
        "\n",
        "    def calculateGPA(self,l1,sem):\n",
        "        temp=[]\n",
        "        grades={}\n",
        "        calculate=0\n",
        "        for i in l1:\n",
        "            temp.append(i.split(\":\")[0])\n",
        "            cg=i.split(\":\")[1]\n",
        "            calculate+=(float(cg)*3)\n",
        "        calculate= (calculate / (len(l1)*3))\n",
        "        grades[tuple(temp)] = round(calculate,2)\n",
        "        self.grades[sem] = grades\n",
        "\n",
        "    def printDetails(self):\n",
        "        print(f'Name: {self.name}\\nID: {self.id}')\n",
        "        for i in self.grades.keys():\n",
        "            print(f'Courses taken in {i}:')\n",
        "            for j in self.grades[i].keys():\n",
        "                for k in j:\n",
        "                    print(k)\n",
        "\n",
        "            print(f\"GPA: {self.grades[i][j]}\")\n",
        "\n",
        "\n",
        "#Driver Code\n",
        "s1 = StudentDatabase('Pietro', '10101222')\n",
        "s1.calculateGPA(['CSE230: 4.0', 'CSE220: 4.0','MAT110: 4.0'], 'Summer2020')\n",
        "s1.calculateGPA(['CSE250: 3.7', 'CSE330: 4.0'],'Summer2021')\n",
        "print(f'Grades for {s1.name}\\n{s1.grades}')\n",
        "print('---------------------------------')\n",
        "s1.printDetails()\n",
        "s2 = StudentDatabase('Wanda', '10103332')\n",
        "s2.calculateGPA(['CSE111: 3.7', 'CSE260: 3.7','ENG101: 4.0'], 'Summer2022')\n",
        "print('---------------------------------')\n",
        "print(f'Grades for {s2.name}\\n{s2.grades}')\n",
        "print('---------------------------------')\n",
        "s2.printDetails()\n"
      ],
      "metadata": {
        "id": "GqkEFLTyUB3V",
        "colab": {
          "base_uri": "https://localhost:8080/"
        },
        "outputId": "e626f43e-0a23-4895-cc45-b5eb7afa9905"
      },
      "execution_count": null,
      "outputs": [
        {
          "output_type": "stream",
          "name": "stdout",
          "text": [
            "('CSE230',)\n",
            "('CSE230', 'CSE220')\n",
            "('CSE230', 'CSE220', 'MAT110')\n",
            "('CSE250',)\n",
            "('CSE250', 'CSE330')\n",
            "Grades for Pietro\n",
            "{'Summer2020': {('CSE230', 'CSE220', 'MAT110'): 4.0}, 'Summer2021': {('CSE250', 'CSE330'): 3.85}}\n",
            "---------------------------------\n",
            "Name: Pietro\n",
            "ID: 10101222\n",
            "Courses taken in Summer2020:\n",
            "CSE230\n",
            "CSE220\n",
            "MAT110\n",
            "GPA: 4.0\n",
            "Courses taken in Summer2021:\n",
            "CSE250\n",
            "CSE330\n",
            "GPA: 3.85\n",
            "('CSE111',)\n",
            "('CSE111', 'CSE260')\n",
            "('CSE111', 'CSE260', 'ENG101')\n",
            "---------------------------------\n",
            "Grades for Wanda\n",
            "{'Summer2022': {('CSE111', 'CSE260', 'ENG101'): 3.8}}\n",
            "---------------------------------\n",
            "Name: Wanda\n",
            "ID: 10103332\n",
            "Courses taken in Summer2022:\n",
            "CSE111\n",
            "CSE260\n",
            "ENG101\n",
            "GPA: 3.8\n"
          ]
        }
      ]
    }
  ]
}